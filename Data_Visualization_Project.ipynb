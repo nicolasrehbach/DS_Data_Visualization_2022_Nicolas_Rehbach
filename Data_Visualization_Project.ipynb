{
 "cells": [
  {
   "cell_type": "markdown",
   "id": "a62ff89f",
   "metadata": {},
   "source": [
    "# Modelling a Pandemic\n",
    "\n",
    "The following notebook contains visualizations to model the ongoing Covid-19 pandemic for my semester project in the module Data Visualization."
   ]
  },
  {
   "cell_type": "markdown",
   "id": "8ba6ef31",
   "metadata": {},
   "source": [
    "## Todo:\n",
    "\n",
    "- Add maths and reproduction number\n",
    "- Add different kinds of graphs"
   ]
  },
  {
   "cell_type": "markdown",
   "id": "f14f99e5",
   "metadata": {},
   "source": [
    "## Importing libraries"
   ]
  },
  {
   "cell_type": "code",
   "execution_count": 94,
   "id": "5a2f30f0",
   "metadata": {},
   "outputs": [],
   "source": [
    "import pandas as pd\n",
    "import numpy as np\n",
    "import scipy\n",
    "from scipy.integrate import odeint\n",
    "\n",
    "from bokeh.plotting import figure, show\n",
    "from bokeh.transform import factor_cmap\n",
    "from bokeh.models import ColumnDataSource, HoverTool, CDSView, CustomJS, Div, Slider, Spinner, Select, DataTable, TableColumn\n",
    "from bokeh.layouts import column, layout, row\n",
    "from bokeh.models.widgets import Tabs, Panel\n",
    "\n",
    "from ipywidgets import interact\n",
    "\n",
    "import plotly as plt\n",
    "import plotly.express as px\n",
    "\n",
    "#from sklearn import preprocessing\n",
    "#https://discourse.bokeh.org/t/how-to-get-a-drop-down-to-change-axes-i-thought-this-would-work-but-i-dont-understand-why-not/4522/4"
   ]
  },
  {
   "cell_type": "markdown",
   "id": "8d205b4d",
   "metadata": {},
   "source": [
    "# Import data\n",
    "The data used for this notebook is provided by Our World in Data. \n",
    "\n",
    "Our World in Data [Github](https://github.com/owid/covid-19-data/tree/master/public/data)"
   ]
  },
  {
   "cell_type": "code",
   "execution_count": 95,
   "id": "cc002451",
   "metadata": {},
   "outputs": [
    {
     "name": "stdout",
     "output_type": "stream",
     "text": [
      "<class 'pandas.core.frame.DataFrame'>\n",
      "RangeIndex: 234 entries, 0 to 233\n",
      "Data columns (total 67 columns):\n",
      " #   Column                                      Non-Null Count  Dtype  \n",
      "---  ------                                      --------------  -----  \n",
      " 0   iso_code                                    234 non-null    object \n",
      " 1   continent                                   221 non-null    object \n",
      " 2   location                                    234 non-null    object \n",
      " 3   last_updated_date                           234 non-null    object \n",
      " 4   total_cases                                 229 non-null    float64\n",
      " 5   new_cases                                   229 non-null    float64\n",
      " 6   new_cases_smoothed                          229 non-null    float64\n",
      " 7   total_deaths                                223 non-null    float64\n",
      " 8   new_deaths                                  223 non-null    float64\n",
      " 9   new_deaths_smoothed                         223 non-null    float64\n",
      " 10  total_cases_per_million                     228 non-null    float64\n",
      " 11  new_cases_per_million                       228 non-null    float64\n",
      " 12  new_cases_smoothed_per_million              228 non-null    float64\n",
      " 13  total_deaths_per_million                    222 non-null    float64\n",
      " 14  new_deaths_per_million                      222 non-null    float64\n",
      " 15  new_deaths_smoothed_per_million             222 non-null    float64\n",
      " 16  reproduction_rate                           0 non-null      float64\n",
      " 17  icu_patients                                35 non-null     float64\n",
      " 18  icu_patients_per_million                    35 non-null     float64\n",
      " 19  hosp_patients                               32 non-null     float64\n",
      " 20  hosp_patients_per_million                   32 non-null     float64\n",
      " 21  weekly_icu_admissions                       17 non-null     float64\n",
      " 22  weekly_icu_admissions_per_million           17 non-null     float64\n",
      " 23  weekly_hosp_admissions                      29 non-null     float64\n",
      " 24  weekly_hosp_admissions_per_million          29 non-null     float64\n",
      " 25  total_tests                                 129 non-null    float64\n",
      " 26  new_tests                                   68 non-null     float64\n",
      " 27  total_tests_per_thousand                    129 non-null    float64\n",
      " 28  new_tests_per_thousand                      68 non-null     float64\n",
      " 29  new_tests_smoothed                          128 non-null    float64\n",
      " 30  new_tests_smoothed_per_thousand             128 non-null    float64\n",
      " 31  positive_rate                               122 non-null    float64\n",
      " 32  tests_per_case                              118 non-null    float64\n",
      " 33  tests_units                                 133 non-null    object \n",
      " 34  total_vaccinations                          177 non-null    float64\n",
      " 35  people_vaccinated                           173 non-null    float64\n",
      " 36  people_fully_vaccinated                     177 non-null    float64\n",
      " 37  total_boosters                              147 non-null    float64\n",
      " 38  new_vaccinations                            80 non-null     float64\n",
      " 39  new_vaccinations_smoothed                   177 non-null    float64\n",
      " 40  total_vaccinations_per_hundred              177 non-null    float64\n",
      " 41  people_vaccinated_per_hundred               173 non-null    float64\n",
      " 42  people_fully_vaccinated_per_hundred         177 non-null    float64\n",
      " 43  total_boosters_per_hundred                  147 non-null    float64\n",
      " 44  new_vaccinations_smoothed_per_million       177 non-null    float64\n",
      " 45  new_people_vaccinated_smoothed              173 non-null    float64\n",
      " 46  new_people_vaccinated_smoothed_per_hundred  173 non-null    float64\n",
      " 47  stringency_index                            119 non-null    float64\n",
      " 48  population                                  233 non-null    float64\n",
      " 49  population_density                          208 non-null    float64\n",
      " 50  median_age                                  194 non-null    float64\n",
      " 51  aged_65_older                               192 non-null    float64\n",
      " 52  aged_70_older                               193 non-null    float64\n",
      " 53  gdp_per_capita                              192 non-null    float64\n",
      " 54  extreme_poverty                             125 non-null    float64\n",
      " 55  cardiovasc_death_rate                       193 non-null    float64\n",
      " 56  diabetes_prevalence                         203 non-null    float64\n",
      " 57  female_smokers                              146 non-null    float64\n",
      " 58  male_smokers                                144 non-null    float64\n",
      " 59  handwashing_facilities                      95 non-null     float64\n",
      " 60  hospital_beds_per_thousand                  171 non-null    float64\n",
      " 61  life_expectancy                             219 non-null    float64\n",
      " 62  human_development_index                     189 non-null    float64\n",
      " 63  excess_mortality_cumulative_absolute        3 non-null      float64\n",
      " 64  excess_mortality_cumulative                 3 non-null      float64\n",
      " 65  excess_mortality                            3 non-null      float64\n",
      " 66  excess_mortality_cumulative_per_million     3 non-null      float64\n",
      "dtypes: float64(62), object(5)\n",
      "memory usage: 122.6+ KB\n"
     ]
    }
   ],
   "source": [
    "url = \"https://raw.githubusercontent.com/owid/covid-19-data/master/public/data/latest/owid-covid-latest.csv\"\n",
    "data = pd.read_csv(url)\n",
    "data.info()"
   ]
  },
  {
   "cell_type": "code",
   "execution_count": 96,
   "id": "42f976cc",
   "metadata": {},
   "outputs": [
    {
     "data": {
      "text/html": [
       "<div>\n",
       "<style scoped>\n",
       "    .dataframe tbody tr th:only-of-type {\n",
       "        vertical-align: middle;\n",
       "    }\n",
       "\n",
       "    .dataframe tbody tr th {\n",
       "        vertical-align: top;\n",
       "    }\n",
       "\n",
       "    .dataframe thead th {\n",
       "        text-align: right;\n",
       "    }\n",
       "</style>\n",
       "<table border=\"1\" class=\"dataframe\">\n",
       "  <thead>\n",
       "    <tr style=\"text-align: right;\">\n",
       "      <th></th>\n",
       "      <th>continent</th>\n",
       "      <th>location</th>\n",
       "      <th>last_updated_date</th>\n",
       "      <th>new_cases</th>\n",
       "      <th>new_deaths</th>\n",
       "      <th>total_cases</th>\n",
       "      <th>total_deaths</th>\n",
       "      <th>total_cases_per_million</th>\n",
       "      <th>total_deaths_per_million</th>\n",
       "      <th>people_fully_vaccinated</th>\n",
       "      <th>...</th>\n",
       "      <th>reproduction_rate</th>\n",
       "      <th>population_density</th>\n",
       "      <th>population</th>\n",
       "      <th>median_age</th>\n",
       "      <th>life_expectancy</th>\n",
       "      <th>gdp_per_capita</th>\n",
       "      <th>human_development_index</th>\n",
       "      <th>extreme_poverty</th>\n",
       "      <th>total_cases_in_100</th>\n",
       "      <th>total_deaths_in_100</th>\n",
       "    </tr>\n",
       "  </thead>\n",
       "  <tbody>\n",
       "    <tr>\n",
       "      <th>0</th>\n",
       "      <td>Asia</td>\n",
       "      <td>Afghanistan</td>\n",
       "      <td>2022-06-04</td>\n",
       "      <td>31.0</td>\n",
       "      <td>0.0</td>\n",
       "      <td>180615.0</td>\n",
       "      <td>7708.0</td>\n",
       "      <td>4534.029</td>\n",
       "      <td>193.496</td>\n",
       "      <td>4807917.0</td>\n",
       "      <td>...</td>\n",
       "      <td>NaN</td>\n",
       "      <td>54.422</td>\n",
       "      <td>39835428.0</td>\n",
       "      <td>18.6</td>\n",
       "      <td>64.83</td>\n",
       "      <td>1803.987</td>\n",
       "      <td>0.511</td>\n",
       "      <td>NaN</td>\n",
       "      <td>1806.15</td>\n",
       "      <td>77.08</td>\n",
       "    </tr>\n",
       "    <tr>\n",
       "      <th>2</th>\n",
       "      <td>Europe</td>\n",
       "      <td>Albania</td>\n",
       "      <td>2022-06-04</td>\n",
       "      <td>32.0</td>\n",
       "      <td>0.0</td>\n",
       "      <td>276342.0</td>\n",
       "      <td>3497.0</td>\n",
       "      <td>96188.078</td>\n",
       "      <td>1217.223</td>\n",
       "      <td>1239990.0</td>\n",
       "      <td>...</td>\n",
       "      <td>NaN</td>\n",
       "      <td>104.871</td>\n",
       "      <td>2872934.0</td>\n",
       "      <td>38.0</td>\n",
       "      <td>78.57</td>\n",
       "      <td>11803.431</td>\n",
       "      <td>0.795</td>\n",
       "      <td>1.1</td>\n",
       "      <td>2763.42</td>\n",
       "      <td>34.97</td>\n",
       "    </tr>\n",
       "    <tr>\n",
       "      <th>3</th>\n",
       "      <td>Africa</td>\n",
       "      <td>Algeria</td>\n",
       "      <td>2022-06-04</td>\n",
       "      <td>0.0</td>\n",
       "      <td>0.0</td>\n",
       "      <td>265889.0</td>\n",
       "      <td>6875.0</td>\n",
       "      <td>5959.415</td>\n",
       "      <td>154.091</td>\n",
       "      <td>NaN</td>\n",
       "      <td>...</td>\n",
       "      <td>NaN</td>\n",
       "      <td>17.348</td>\n",
       "      <td>44616626.0</td>\n",
       "      <td>29.1</td>\n",
       "      <td>76.88</td>\n",
       "      <td>13913.839</td>\n",
       "      <td>0.748</td>\n",
       "      <td>0.5</td>\n",
       "      <td>2658.89</td>\n",
       "      <td>68.75</td>\n",
       "    </tr>\n",
       "    <tr>\n",
       "      <th>4</th>\n",
       "      <td>Europe</td>\n",
       "      <td>Andorra</td>\n",
       "      <td>2022-06-04</td>\n",
       "      <td>173.0</td>\n",
       "      <td>0.0</td>\n",
       "      <td>43067.0</td>\n",
       "      <td>153.0</td>\n",
       "      <td>556752.075</td>\n",
       "      <td>1977.920</td>\n",
       "      <td>53442.0</td>\n",
       "      <td>...</td>\n",
       "      <td>NaN</td>\n",
       "      <td>163.755</td>\n",
       "      <td>77354.0</td>\n",
       "      <td>NaN</td>\n",
       "      <td>83.73</td>\n",
       "      <td>NaN</td>\n",
       "      <td>0.868</td>\n",
       "      <td>NaN</td>\n",
       "      <td>430.67</td>\n",
       "      <td>1.53</td>\n",
       "    </tr>\n",
       "    <tr>\n",
       "      <th>5</th>\n",
       "      <td>Africa</td>\n",
       "      <td>Angola</td>\n",
       "      <td>2022-06-04</td>\n",
       "      <td>234.0</td>\n",
       "      <td>0.0</td>\n",
       "      <td>99761.0</td>\n",
       "      <td>1900.0</td>\n",
       "      <td>2939.888</td>\n",
       "      <td>55.992</td>\n",
       "      <td>6555241.0</td>\n",
       "      <td>...</td>\n",
       "      <td>NaN</td>\n",
       "      <td>23.890</td>\n",
       "      <td>33933611.0</td>\n",
       "      <td>16.8</td>\n",
       "      <td>61.15</td>\n",
       "      <td>5819.495</td>\n",
       "      <td>0.581</td>\n",
       "      <td>NaN</td>\n",
       "      <td>997.61</td>\n",
       "      <td>19.00</td>\n",
       "    </tr>\n",
       "    <tr>\n",
       "      <th>...</th>\n",
       "      <td>...</td>\n",
       "      <td>...</td>\n",
       "      <td>...</td>\n",
       "      <td>...</td>\n",
       "      <td>...</td>\n",
       "      <td>...</td>\n",
       "      <td>...</td>\n",
       "      <td>...</td>\n",
       "      <td>...</td>\n",
       "      <td>...</td>\n",
       "      <td>...</td>\n",
       "      <td>...</td>\n",
       "      <td>...</td>\n",
       "      <td>...</td>\n",
       "      <td>...</td>\n",
       "      <td>...</td>\n",
       "      <td>...</td>\n",
       "      <td>...</td>\n",
       "      <td>...</td>\n",
       "      <td>...</td>\n",
       "      <td>...</td>\n",
       "    </tr>\n",
       "    <tr>\n",
       "      <th>228</th>\n",
       "      <td>Asia</td>\n",
       "      <td>Vietnam</td>\n",
       "      <td>2022-06-04</td>\n",
       "      <td>881.0</td>\n",
       "      <td>0.0</td>\n",
       "      <td>10724554.0</td>\n",
       "      <td>43080.0</td>\n",
       "      <td>109246.021</td>\n",
       "      <td>438.836</td>\n",
       "      <td>79373469.0</td>\n",
       "      <td>...</td>\n",
       "      <td>NaN</td>\n",
       "      <td>308.127</td>\n",
       "      <td>98168829.0</td>\n",
       "      <td>32.6</td>\n",
       "      <td>75.40</td>\n",
       "      <td>6171.884</td>\n",
       "      <td>0.704</td>\n",
       "      <td>2.0</td>\n",
       "      <td>107245.54</td>\n",
       "      <td>430.80</td>\n",
       "    </tr>\n",
       "    <tr>\n",
       "      <th>229</th>\n",
       "      <td>Oceania</td>\n",
       "      <td>Wallis and Futuna</td>\n",
       "      <td>2022-06-04</td>\n",
       "      <td>0.0</td>\n",
       "      <td>0.0</td>\n",
       "      <td>454.0</td>\n",
       "      <td>7.0</td>\n",
       "      <td>40923.021</td>\n",
       "      <td>630.972</td>\n",
       "      <td>NaN</td>\n",
       "      <td>...</td>\n",
       "      <td>NaN</td>\n",
       "      <td>NaN</td>\n",
       "      <td>11094.0</td>\n",
       "      <td>NaN</td>\n",
       "      <td>79.94</td>\n",
       "      <td>NaN</td>\n",
       "      <td>NaN</td>\n",
       "      <td>NaN</td>\n",
       "      <td>4.54</td>\n",
       "      <td>0.07</td>\n",
       "    </tr>\n",
       "    <tr>\n",
       "      <th>231</th>\n",
       "      <td>Asia</td>\n",
       "      <td>Yemen</td>\n",
       "      <td>2022-06-04</td>\n",
       "      <td>0.0</td>\n",
       "      <td>0.0</td>\n",
       "      <td>11822.0</td>\n",
       "      <td>2149.0</td>\n",
       "      <td>387.726</td>\n",
       "      <td>70.481</td>\n",
       "      <td>429721.0</td>\n",
       "      <td>...</td>\n",
       "      <td>NaN</td>\n",
       "      <td>53.508</td>\n",
       "      <td>30490639.0</td>\n",
       "      <td>20.3</td>\n",
       "      <td>66.12</td>\n",
       "      <td>1479.147</td>\n",
       "      <td>0.470</td>\n",
       "      <td>18.8</td>\n",
       "      <td>118.22</td>\n",
       "      <td>21.49</td>\n",
       "    </tr>\n",
       "    <tr>\n",
       "      <th>232</th>\n",
       "      <td>Africa</td>\n",
       "      <td>Zambia</td>\n",
       "      <td>2022-06-04</td>\n",
       "      <td>292.0</td>\n",
       "      <td>0.0</td>\n",
       "      <td>322207.0</td>\n",
       "      <td>3988.0</td>\n",
       "      <td>17029.377</td>\n",
       "      <td>210.775</td>\n",
       "      <td>3674839.0</td>\n",
       "      <td>...</td>\n",
       "      <td>NaN</td>\n",
       "      <td>22.995</td>\n",
       "      <td>18920657.0</td>\n",
       "      <td>17.7</td>\n",
       "      <td>63.89</td>\n",
       "      <td>3689.251</td>\n",
       "      <td>0.584</td>\n",
       "      <td>57.5</td>\n",
       "      <td>3222.07</td>\n",
       "      <td>39.88</td>\n",
       "    </tr>\n",
       "    <tr>\n",
       "      <th>233</th>\n",
       "      <td>Africa</td>\n",
       "      <td>Zimbabwe</td>\n",
       "      <td>2022-06-04</td>\n",
       "      <td>185.0</td>\n",
       "      <td>0.0</td>\n",
       "      <td>253236.0</td>\n",
       "      <td>5509.0</td>\n",
       "      <td>16779.296</td>\n",
       "      <td>365.024</td>\n",
       "      <td>4529357.0</td>\n",
       "      <td>...</td>\n",
       "      <td>NaN</td>\n",
       "      <td>42.729</td>\n",
       "      <td>15092171.0</td>\n",
       "      <td>19.6</td>\n",
       "      <td>61.49</td>\n",
       "      <td>1899.775</td>\n",
       "      <td>0.571</td>\n",
       "      <td>21.4</td>\n",
       "      <td>2532.36</td>\n",
       "      <td>55.09</td>\n",
       "    </tr>\n",
       "  </tbody>\n",
       "</table>\n",
       "<p>221 rows × 21 columns</p>\n",
       "</div>"
      ],
      "text/plain": [
       "    continent           location last_updated_date  new_cases  new_deaths  \\\n",
       "0        Asia        Afghanistan        2022-06-04       31.0         0.0   \n",
       "2      Europe            Albania        2022-06-04       32.0         0.0   \n",
       "3      Africa            Algeria        2022-06-04        0.0         0.0   \n",
       "4      Europe            Andorra        2022-06-04      173.0         0.0   \n",
       "5      Africa             Angola        2022-06-04      234.0         0.0   \n",
       "..        ...                ...               ...        ...         ...   \n",
       "228      Asia            Vietnam        2022-06-04      881.0         0.0   \n",
       "229   Oceania  Wallis and Futuna        2022-06-04        0.0         0.0   \n",
       "231      Asia              Yemen        2022-06-04        0.0         0.0   \n",
       "232    Africa             Zambia        2022-06-04      292.0         0.0   \n",
       "233    Africa           Zimbabwe        2022-06-04      185.0         0.0   \n",
       "\n",
       "     total_cases  total_deaths  total_cases_per_million  \\\n",
       "0       180615.0        7708.0                 4534.029   \n",
       "2       276342.0        3497.0                96188.078   \n",
       "3       265889.0        6875.0                 5959.415   \n",
       "4        43067.0         153.0               556752.075   \n",
       "5        99761.0        1900.0                 2939.888   \n",
       "..           ...           ...                      ...   \n",
       "228   10724554.0       43080.0               109246.021   \n",
       "229        454.0           7.0                40923.021   \n",
       "231      11822.0        2149.0                  387.726   \n",
       "232     322207.0        3988.0                17029.377   \n",
       "233     253236.0        5509.0                16779.296   \n",
       "\n",
       "     total_deaths_per_million  people_fully_vaccinated  ...  \\\n",
       "0                     193.496                4807917.0  ...   \n",
       "2                    1217.223                1239990.0  ...   \n",
       "3                     154.091                      NaN  ...   \n",
       "4                    1977.920                  53442.0  ...   \n",
       "5                      55.992                6555241.0  ...   \n",
       "..                        ...                      ...  ...   \n",
       "228                   438.836               79373469.0  ...   \n",
       "229                   630.972                      NaN  ...   \n",
       "231                    70.481                 429721.0  ...   \n",
       "232                   210.775                3674839.0  ...   \n",
       "233                   365.024                4529357.0  ...   \n",
       "\n",
       "     reproduction_rate  population_density  population  median_age  \\\n",
       "0                  NaN              54.422  39835428.0        18.6   \n",
       "2                  NaN             104.871   2872934.0        38.0   \n",
       "3                  NaN              17.348  44616626.0        29.1   \n",
       "4                  NaN             163.755     77354.0         NaN   \n",
       "5                  NaN              23.890  33933611.0        16.8   \n",
       "..                 ...                 ...         ...         ...   \n",
       "228                NaN             308.127  98168829.0        32.6   \n",
       "229                NaN                 NaN     11094.0         NaN   \n",
       "231                NaN              53.508  30490639.0        20.3   \n",
       "232                NaN              22.995  18920657.0        17.7   \n",
       "233                NaN              42.729  15092171.0        19.6   \n",
       "\n",
       "     life_expectancy  gdp_per_capita  human_development_index  \\\n",
       "0              64.83        1803.987                    0.511   \n",
       "2              78.57       11803.431                    0.795   \n",
       "3              76.88       13913.839                    0.748   \n",
       "4              83.73             NaN                    0.868   \n",
       "5              61.15        5819.495                    0.581   \n",
       "..               ...             ...                      ...   \n",
       "228            75.40        6171.884                    0.704   \n",
       "229            79.94             NaN                      NaN   \n",
       "231            66.12        1479.147                    0.470   \n",
       "232            63.89        3689.251                    0.584   \n",
       "233            61.49        1899.775                    0.571   \n",
       "\n",
       "     extreme_poverty  total_cases_in_100  total_deaths_in_100  \n",
       "0                NaN             1806.15                77.08  \n",
       "2                1.1             2763.42                34.97  \n",
       "3                0.5             2658.89                68.75  \n",
       "4                NaN              430.67                 1.53  \n",
       "5                NaN              997.61                19.00  \n",
       "..               ...                 ...                  ...  \n",
       "228              2.0           107245.54               430.80  \n",
       "229              NaN                4.54                 0.07  \n",
       "231             18.8              118.22                21.49  \n",
       "232             57.5             3222.07                39.88  \n",
       "233             21.4             2532.36                55.09  \n",
       "\n",
       "[221 rows x 21 columns]"
      ]
     },
     "execution_count": 96,
     "metadata": {},
     "output_type": "execute_result"
    }
   ],
   "source": [
    "df = data[['continent', 'location','last_updated_date', 'new_cases', 'new_deaths', 'total_cases', 'total_deaths', 'total_cases_per_million', 'total_deaths_per_million', 'people_fully_vaccinated','total_vaccinations_per_hundred', 'reproduction_rate', 'population_density','population','median_age','life_expectancy','gdp_per_capita', 'human_development_index', 'extreme_poverty']]\n",
    "df = df[df['continent'].notna()]\n",
    "df['total_cases_in_100'] = df['total_cases'] / 100\n",
    "df['total_deaths_in_100'] = df['total_deaths'] / 100\n",
    "df"
   ]
  },
  {
   "cell_type": "markdown",
   "id": "b6242860",
   "metadata": {},
   "source": [
    "# Visualizing the current situation globally:\n",
    "Even though most Covid-19 restrictions are lowered globally, there are still new infections and deaths every day. While rich countries are mostly fully vaccinated, countries in Africa or South America are still lacking sufficient healthcare. Especially, since poorer countries are not able to inform and test their citizens."
   ]
  },
  {
   "cell_type": "code",
   "execution_count": 97,
   "id": "e0ee955d",
   "metadata": {},
   "outputs": [
    {
     "name": "stderr",
     "output_type": "stream",
     "text": [
      "/var/folders/vc/33g3tqwn4c59qnzswhnf6ry00000gn/T/ipykernel_34224/1250274219.py:7: SettingWithCopyWarning:\n",
      "\n",
      "\n",
      "A value is trying to be set on a copy of a slice from a DataFrame.\n",
      "Try using .loc[row_indexer,col_indexer] = value instead\n",
      "\n",
      "See the caveats in the documentation: https://pandas.pydata.org/pandas-docs/stable/user_guide/indexing.html#returning-a-view-versus-a-copy\n",
      "\n",
      "/var/folders/vc/33g3tqwn4c59qnzswhnf6ry00000gn/T/ipykernel_34224/1250274219.py:8: SettingWithCopyWarning:\n",
      "\n",
      "\n",
      "A value is trying to be set on a copy of a slice from a DataFrame\n",
      "\n",
      "See the caveats in the documentation: https://pandas.pydata.org/pandas-docs/stable/user_guide/indexing.html#returning-a-view-versus-a-copy\n",
      "\n",
      "/Users/nicolasrehbach/opt/anaconda3/lib/python3.9/site-packages/pandas/core/generic.py:8870: SettingWithCopyWarning:\n",
      "\n",
      "\n",
      "A value is trying to be set on a copy of a slice from a DataFrame\n",
      "\n",
      "See the caveats in the documentation: https://pandas.pydata.org/pandas-docs/stable/user_guide/indexing.html#returning-a-view-versus-a-copy\n",
      "\n"
     ]
    },
    {
     "data": {
      "text/html": [
       "<div>\n",
       "<style scoped>\n",
       "    .dataframe tbody tr th:only-of-type {\n",
       "        vertical-align: middle;\n",
       "    }\n",
       "\n",
       "    .dataframe tbody tr th {\n",
       "        vertical-align: top;\n",
       "    }\n",
       "\n",
       "    .dataframe thead th {\n",
       "        text-align: right;\n",
       "    }\n",
       "</style>\n",
       "<table border=\"1\" class=\"dataframe\">\n",
       "  <thead>\n",
       "    <tr style=\"text-align: right;\">\n",
       "      <th></th>\n",
       "      <th>iso_code</th>\n",
       "      <th>continent</th>\n",
       "      <th>location</th>\n",
       "      <th>last_updated_date</th>\n",
       "      <th>total_cases</th>\n",
       "      <th>new_cases</th>\n",
       "      <th>new_cases_smoothed</th>\n",
       "      <th>total_deaths</th>\n",
       "      <th>new_deaths</th>\n",
       "      <th>new_deaths_smoothed</th>\n",
       "      <th>...</th>\n",
       "      <th>male_smokers</th>\n",
       "      <th>handwashing_facilities</th>\n",
       "      <th>hospital_beds_per_thousand</th>\n",
       "      <th>life_expectancy</th>\n",
       "      <th>human_development_index</th>\n",
       "      <th>excess_mortality_cumulative_absolute</th>\n",
       "      <th>excess_mortality_cumulative</th>\n",
       "      <th>excess_mortality</th>\n",
       "      <th>excess_mortality_cumulative_per_million</th>\n",
       "      <th>new_cases_norm</th>\n",
       "    </tr>\n",
       "  </thead>\n",
       "  <tbody>\n",
       "    <tr>\n",
       "      <th>0</th>\n",
       "      <td>AFG</td>\n",
       "      <td>Asia</td>\n",
       "      <td>Afghanistan</td>\n",
       "      <td>2022-06-04</td>\n",
       "      <td>180615.0</td>\n",
       "      <td>31.0</td>\n",
       "      <td>70.429</td>\n",
       "      <td>7708.0</td>\n",
       "      <td>0.0</td>\n",
       "      <td>1.000</td>\n",
       "      <td>...</td>\n",
       "      <td>NaN</td>\n",
       "      <td>37.746</td>\n",
       "      <td>0.50</td>\n",
       "      <td>64.83</td>\n",
       "      <td>0.511</td>\n",
       "      <td>NaN</td>\n",
       "      <td>NaN</td>\n",
       "      <td>NaN</td>\n",
       "      <td>NaN</td>\n",
       "      <td>1.004095</td>\n",
       "    </tr>\n",
       "    <tr>\n",
       "      <th>2</th>\n",
       "      <td>ALB</td>\n",
       "      <td>Europe</td>\n",
       "      <td>Albania</td>\n",
       "      <td>2022-06-04</td>\n",
       "      <td>276342.0</td>\n",
       "      <td>32.0</td>\n",
       "      <td>37.286</td>\n",
       "      <td>3497.0</td>\n",
       "      <td>0.0</td>\n",
       "      <td>0.000</td>\n",
       "      <td>...</td>\n",
       "      <td>51.2</td>\n",
       "      <td>NaN</td>\n",
       "      <td>2.89</td>\n",
       "      <td>78.57</td>\n",
       "      <td>0.795</td>\n",
       "      <td>NaN</td>\n",
       "      <td>NaN</td>\n",
       "      <td>NaN</td>\n",
       "      <td>NaN</td>\n",
       "      <td>1.004227</td>\n",
       "    </tr>\n",
       "    <tr>\n",
       "      <th>3</th>\n",
       "      <td>DZA</td>\n",
       "      <td>Africa</td>\n",
       "      <td>Algeria</td>\n",
       "      <td>2022-06-04</td>\n",
       "      <td>265889.0</td>\n",
       "      <td>0.0</td>\n",
       "      <td>2.286</td>\n",
       "      <td>6875.0</td>\n",
       "      <td>0.0</td>\n",
       "      <td>0.000</td>\n",
       "      <td>...</td>\n",
       "      <td>30.4</td>\n",
       "      <td>83.741</td>\n",
       "      <td>1.90</td>\n",
       "      <td>76.88</td>\n",
       "      <td>0.748</td>\n",
       "      <td>NaN</td>\n",
       "      <td>NaN</td>\n",
       "      <td>NaN</td>\n",
       "      <td>NaN</td>\n",
       "      <td>1.000000</td>\n",
       "    </tr>\n",
       "    <tr>\n",
       "      <th>4</th>\n",
       "      <td>AND</td>\n",
       "      <td>Europe</td>\n",
       "      <td>Andorra</td>\n",
       "      <td>2022-06-04</td>\n",
       "      <td>43067.0</td>\n",
       "      <td>173.0</td>\n",
       "      <td>24.714</td>\n",
       "      <td>153.0</td>\n",
       "      <td>0.0</td>\n",
       "      <td>0.000</td>\n",
       "      <td>...</td>\n",
       "      <td>37.8</td>\n",
       "      <td>NaN</td>\n",
       "      <td>NaN</td>\n",
       "      <td>83.73</td>\n",
       "      <td>0.868</td>\n",
       "      <td>NaN</td>\n",
       "      <td>NaN</td>\n",
       "      <td>NaN</td>\n",
       "      <td>NaN</td>\n",
       "      <td>1.022854</td>\n",
       "    </tr>\n",
       "    <tr>\n",
       "      <th>5</th>\n",
       "      <td>AGO</td>\n",
       "      <td>Africa</td>\n",
       "      <td>Angola</td>\n",
       "      <td>2022-06-04</td>\n",
       "      <td>99761.0</td>\n",
       "      <td>234.0</td>\n",
       "      <td>67.714</td>\n",
       "      <td>1900.0</td>\n",
       "      <td>0.0</td>\n",
       "      <td>0.000</td>\n",
       "      <td>...</td>\n",
       "      <td>NaN</td>\n",
       "      <td>26.664</td>\n",
       "      <td>NaN</td>\n",
       "      <td>61.15</td>\n",
       "      <td>0.581</td>\n",
       "      <td>NaN</td>\n",
       "      <td>NaN</td>\n",
       "      <td>NaN</td>\n",
       "      <td>NaN</td>\n",
       "      <td>1.030912</td>\n",
       "    </tr>\n",
       "    <tr>\n",
       "      <th>...</th>\n",
       "      <td>...</td>\n",
       "      <td>...</td>\n",
       "      <td>...</td>\n",
       "      <td>...</td>\n",
       "      <td>...</td>\n",
       "      <td>...</td>\n",
       "      <td>...</td>\n",
       "      <td>...</td>\n",
       "      <td>...</td>\n",
       "      <td>...</td>\n",
       "      <td>...</td>\n",
       "      <td>...</td>\n",
       "      <td>...</td>\n",
       "      <td>...</td>\n",
       "      <td>...</td>\n",
       "      <td>...</td>\n",
       "      <td>...</td>\n",
       "      <td>...</td>\n",
       "      <td>...</td>\n",
       "      <td>...</td>\n",
       "      <td>...</td>\n",
       "    </tr>\n",
       "    <tr>\n",
       "      <th>228</th>\n",
       "      <td>VNM</td>\n",
       "      <td>Asia</td>\n",
       "      <td>Vietnam</td>\n",
       "      <td>2022-06-04</td>\n",
       "      <td>10724554.0</td>\n",
       "      <td>881.0</td>\n",
       "      <td>1170.429</td>\n",
       "      <td>43080.0</td>\n",
       "      <td>0.0</td>\n",
       "      <td>0.286</td>\n",
       "      <td>...</td>\n",
       "      <td>45.9</td>\n",
       "      <td>85.847</td>\n",
       "      <td>2.60</td>\n",
       "      <td>75.40</td>\n",
       "      <td>0.704</td>\n",
       "      <td>NaN</td>\n",
       "      <td>NaN</td>\n",
       "      <td>NaN</td>\n",
       "      <td>NaN</td>\n",
       "      <td>1.116384</td>\n",
       "    </tr>\n",
       "    <tr>\n",
       "      <th>229</th>\n",
       "      <td>WLF</td>\n",
       "      <td>Oceania</td>\n",
       "      <td>Wallis and Futuna</td>\n",
       "      <td>2022-06-04</td>\n",
       "      <td>454.0</td>\n",
       "      <td>0.0</td>\n",
       "      <td>0.000</td>\n",
       "      <td>7.0</td>\n",
       "      <td>0.0</td>\n",
       "      <td>0.000</td>\n",
       "      <td>...</td>\n",
       "      <td>NaN</td>\n",
       "      <td>NaN</td>\n",
       "      <td>NaN</td>\n",
       "      <td>79.94</td>\n",
       "      <td>NaN</td>\n",
       "      <td>NaN</td>\n",
       "      <td>NaN</td>\n",
       "      <td>NaN</td>\n",
       "      <td>NaN</td>\n",
       "      <td>1.000000</td>\n",
       "    </tr>\n",
       "    <tr>\n",
       "      <th>231</th>\n",
       "      <td>YEM</td>\n",
       "      <td>Asia</td>\n",
       "      <td>Yemen</td>\n",
       "      <td>2022-06-04</td>\n",
       "      <td>11822.0</td>\n",
       "      <td>0.0</td>\n",
       "      <td>0.429</td>\n",
       "      <td>2149.0</td>\n",
       "      <td>0.0</td>\n",
       "      <td>0.000</td>\n",
       "      <td>...</td>\n",
       "      <td>29.2</td>\n",
       "      <td>49.542</td>\n",
       "      <td>0.70</td>\n",
       "      <td>66.12</td>\n",
       "      <td>0.470</td>\n",
       "      <td>NaN</td>\n",
       "      <td>NaN</td>\n",
       "      <td>NaN</td>\n",
       "      <td>NaN</td>\n",
       "      <td>1.000000</td>\n",
       "    </tr>\n",
       "    <tr>\n",
       "      <th>232</th>\n",
       "      <td>ZMB</td>\n",
       "      <td>Africa</td>\n",
       "      <td>Zambia</td>\n",
       "      <td>2022-06-04</td>\n",
       "      <td>322207.0</td>\n",
       "      <td>292.0</td>\n",
       "      <td>100.571</td>\n",
       "      <td>3988.0</td>\n",
       "      <td>0.0</td>\n",
       "      <td>0.429</td>\n",
       "      <td>...</td>\n",
       "      <td>24.7</td>\n",
       "      <td>13.938</td>\n",
       "      <td>2.00</td>\n",
       "      <td>63.89</td>\n",
       "      <td>0.584</td>\n",
       "      <td>NaN</td>\n",
       "      <td>NaN</td>\n",
       "      <td>NaN</td>\n",
       "      <td>NaN</td>\n",
       "      <td>1.038574</td>\n",
       "    </tr>\n",
       "    <tr>\n",
       "      <th>233</th>\n",
       "      <td>ZWE</td>\n",
       "      <td>Africa</td>\n",
       "      <td>Zimbabwe</td>\n",
       "      <td>2022-06-04</td>\n",
       "      <td>253236.0</td>\n",
       "      <td>185.0</td>\n",
       "      <td>182.429</td>\n",
       "      <td>5509.0</td>\n",
       "      <td>0.0</td>\n",
       "      <td>1.286</td>\n",
       "      <td>...</td>\n",
       "      <td>30.7</td>\n",
       "      <td>36.791</td>\n",
       "      <td>1.70</td>\n",
       "      <td>61.49</td>\n",
       "      <td>0.571</td>\n",
       "      <td>NaN</td>\n",
       "      <td>NaN</td>\n",
       "      <td>NaN</td>\n",
       "      <td>NaN</td>\n",
       "      <td>1.024439</td>\n",
       "    </tr>\n",
       "  </tbody>\n",
       "</table>\n",
       "<p>221 rows × 68 columns</p>\n",
       "</div>"
      ],
      "text/plain": [
       "    iso_code continent           location last_updated_date  total_cases  \\\n",
       "0        AFG      Asia        Afghanistan        2022-06-04     180615.0   \n",
       "2        ALB    Europe            Albania        2022-06-04     276342.0   \n",
       "3        DZA    Africa            Algeria        2022-06-04     265889.0   \n",
       "4        AND    Europe            Andorra        2022-06-04      43067.0   \n",
       "5        AGO    Africa             Angola        2022-06-04      99761.0   \n",
       "..       ...       ...                ...               ...          ...   \n",
       "228      VNM      Asia            Vietnam        2022-06-04   10724554.0   \n",
       "229      WLF   Oceania  Wallis and Futuna        2022-06-04        454.0   \n",
       "231      YEM      Asia              Yemen        2022-06-04      11822.0   \n",
       "232      ZMB    Africa             Zambia        2022-06-04     322207.0   \n",
       "233      ZWE    Africa           Zimbabwe        2022-06-04     253236.0   \n",
       "\n",
       "     new_cases  new_cases_smoothed  total_deaths  new_deaths  \\\n",
       "0         31.0              70.429        7708.0         0.0   \n",
       "2         32.0              37.286        3497.0         0.0   \n",
       "3          0.0               2.286        6875.0         0.0   \n",
       "4        173.0              24.714         153.0         0.0   \n",
       "5        234.0              67.714        1900.0         0.0   \n",
       "..         ...                 ...           ...         ...   \n",
       "228      881.0            1170.429       43080.0         0.0   \n",
       "229        0.0               0.000           7.0         0.0   \n",
       "231        0.0               0.429        2149.0         0.0   \n",
       "232      292.0             100.571        3988.0         0.0   \n",
       "233      185.0             182.429        5509.0         0.0   \n",
       "\n",
       "     new_deaths_smoothed  ...  male_smokers  handwashing_facilities  \\\n",
       "0                  1.000  ...           NaN                  37.746   \n",
       "2                  0.000  ...          51.2                     NaN   \n",
       "3                  0.000  ...          30.4                  83.741   \n",
       "4                  0.000  ...          37.8                     NaN   \n",
       "5                  0.000  ...           NaN                  26.664   \n",
       "..                   ...  ...           ...                     ...   \n",
       "228                0.286  ...          45.9                  85.847   \n",
       "229                0.000  ...           NaN                     NaN   \n",
       "231                0.000  ...          29.2                  49.542   \n",
       "232                0.429  ...          24.7                  13.938   \n",
       "233                1.286  ...          30.7                  36.791   \n",
       "\n",
       "     hospital_beds_per_thousand  life_expectancy  human_development_index  \\\n",
       "0                          0.50            64.83                    0.511   \n",
       "2                          2.89            78.57                    0.795   \n",
       "3                          1.90            76.88                    0.748   \n",
       "4                           NaN            83.73                    0.868   \n",
       "5                           NaN            61.15                    0.581   \n",
       "..                          ...              ...                      ...   \n",
       "228                        2.60            75.40                    0.704   \n",
       "229                         NaN            79.94                      NaN   \n",
       "231                        0.70            66.12                    0.470   \n",
       "232                        2.00            63.89                    0.584   \n",
       "233                        1.70            61.49                    0.571   \n",
       "\n",
       "     excess_mortality_cumulative_absolute  excess_mortality_cumulative  \\\n",
       "0                                     NaN                          NaN   \n",
       "2                                     NaN                          NaN   \n",
       "3                                     NaN                          NaN   \n",
       "4                                     NaN                          NaN   \n",
       "5                                     NaN                          NaN   \n",
       "..                                    ...                          ...   \n",
       "228                                   NaN                          NaN   \n",
       "229                                   NaN                          NaN   \n",
       "231                                   NaN                          NaN   \n",
       "232                                   NaN                          NaN   \n",
       "233                                   NaN                          NaN   \n",
       "\n",
       "     excess_mortality  excess_mortality_cumulative_per_million  new_cases_norm  \n",
       "0                 NaN                                      NaN        1.004095  \n",
       "2                 NaN                                      NaN        1.004227  \n",
       "3                 NaN                                      NaN        1.000000  \n",
       "4                 NaN                                      NaN        1.022854  \n",
       "5                 NaN                                      NaN        1.030912  \n",
       "..                ...                                      ...             ...  \n",
       "228               NaN                                      NaN        1.116384  \n",
       "229               NaN                                      NaN        1.000000  \n",
       "231               NaN                                      NaN        1.000000  \n",
       "232               NaN                                      NaN        1.038574  \n",
       "233               NaN                                      NaN        1.024439  \n",
       "\n",
       "[221 rows x 68 columns]"
      ]
     },
     "execution_count": 97,
     "metadata": {},
     "output_type": "execute_result"
    }
   ],
   "source": [
    "globe_data = data\n",
    "globe_data = globe_data[globe_data['continent'].notna()]\n",
    "#Add a normalized new_cases\n",
    "start = 1\n",
    "end = 10\n",
    "width = end - start\n",
    "globe_data['new_cases_norm'] = (globe_data['new_cases'] - globe_data['new_cases'].min())/(globe_data['new_cases'].max() - globe_data['new_cases'].min()) * width + start\n",
    "globe_data['new_cases_norm'][np.isnan(globe_data['new_cases_norm'])] = 1\n",
    "globe_data"
   ]
  },
  {
   "cell_type": "code",
   "execution_count": 98,
   "id": "9b19bd2c",
   "metadata": {},
   "outputs": [
    {
     "data": {
      "application/vnd.plotly.v1+json": {
       "config": {
        "plotlyServerURL": "https://plot.ly"
       },
       "data": [
        {
         "customdata": [
          [
           31,
           180615,
           7708
          ],
          [
           0,
           422963,
           8625
          ],
          [
           0,
           792785,
           9713
          ],
          [
           614,
           588070,
           1488
          ],
          [
           31,
           1953623,
           29131
          ],
          [
           0,
           59628,
           21
          ],
          [
           379,
           150058,
           223
          ],
          [
           0,
           136262,
           3056
          ],
          [
           171,
           884320,
           5226
          ],
          [
           0,
           1655221,
           16811
          ],
          [
           446,
           1214638,
           9382
          ],
          [
           4270,
           43176817,
           524692
          ],
          [
           372,
           6056017,
           156604
          ],
          [
           64,
           7232678,
           141328
          ],
          [
           84,
           2328582,
           25220
          ],
          [
           2462,
           4146176,
           10860
          ],
          [
           18236,
           8918984,
           30733
          ],
          [
           269,
           1696937,
           14066
          ],
          [
           9,
           1394944,
           19016
          ],
          [
           444,
           633225,
           2555
          ],
          [
           0,
           200993,
           2991
          ],
          [
           8,
           210069,
           756
          ],
          [
           377,
           1099745,
           10435
          ],
          [
           0,
           83,
           null
          ],
          [
           1591,
           4513631,
           35686
          ],
          [
           0,
           179753,
           299
          ],
          [
           154,
           925227,
           2179
          ],
          [
           11,
           613381,
           19434
          ],
          [
           8,
           979190,
           11952
          ],
          [
           0,
           1,
           6
          ],
          [
           0,
           389473,
           4260
          ],
          [
           0,
           1530556,
           30379
          ],
          [
           132,
           657705,
           5660
          ],
          [
           213,
           3691327,
           60456
          ],
          [
           221,
           369526,
           677
          ],
          [
           565,
           770650,
           9155
          ],
          [
           2879,
           1316728,
           1392
          ],
          [
           9835,
           18163686,
           24258
          ],
          [
           9,
           663862,
           16518
          ],
          [
           0,
           55894,
           3150
          ],
          [
           68128,
           2342794,
           2663
          ],
          [
           0,
           17786,
           125
          ],
          [
           3236,
           4466793,
           30171
          ],
          [
           0,
           22921,
           131
          ],
          [
           975,
           15072747,
           98965
          ],
          [
           523,
           910338,
           2305
          ],
          [
           15,
           239092,
           1637
          ],
          [
           881,
           10724554,
           43080
          ],
          [
           0,
           11822,
           2149
          ]
         ],
         "geo": "geo",
         "hovertemplate": "<b>%{hovertext}</b><br><br>continent=Asia<br>new_cases_norm=%{marker.size}<br>iso_code=%{location}<br>new_cases=%{customdata[0]}<br>total_cases=%{customdata[1]}<br>total_deaths=%{customdata[2]}<extra></extra>",
         "hovertext": [
          "Afghanistan",
          "Armenia",
          "Azerbaijan",
          "Bahrain",
          "Bangladesh",
          "Bhutan",
          "Brunei",
          "Cambodia",
          "China",
          "Georgia",
          "Hong Kong",
          "India",
          "Indonesia",
          "Iran",
          "Iraq",
          "Israel",
          "Japan",
          "Jordan",
          "Kazakhstan",
          "Kuwait",
          "Kyrgyzstan",
          "Laos",
          "Lebanon",
          "Macao",
          "Malaysia",
          "Maldives",
          "Mongolia",
          "Myanmar",
          "Nepal",
          "North Korea",
          "Oman",
          "Pakistan",
          "Palestine",
          "Philippines",
          "Qatar",
          "Saudi Arabia",
          "Singapore",
          "South Korea",
          "Sri Lanka",
          "Syria",
          "Taiwan",
          "Tajikistan",
          "Thailand",
          "Timor",
          "Turkey",
          "United Arab Emirates",
          "Uzbekistan",
          "Vietnam",
          "Yemen"
         ],
         "legendgroup": "Asia",
         "locations": [
          "AFG",
          "ARM",
          "AZE",
          "BHR",
          "BGD",
          "BTN",
          "BRN",
          "KHM",
          "CHN",
          "GEO",
          "HKG",
          "IND",
          "IDN",
          "IRN",
          "IRQ",
          "ISR",
          "JPN",
          "JOR",
          "KAZ",
          "KWT",
          "KGZ",
          "LAO",
          "LBN",
          "MAC",
          "MYS",
          "MDV",
          "MNG",
          "MMR",
          "NPL",
          "PRK",
          "OMN",
          "PAK",
          "PSE",
          "PHL",
          "QAT",
          "SAU",
          "SGP",
          "KOR",
          "LKA",
          "SYR",
          "TWN",
          "TJK",
          "THA",
          "TLS",
          "TUR",
          "ARE",
          "UZB",
          "VNM",
          "YEM"
         ],
         "marker": {
          "color": "#636efa",
          "size": [
           1.0040952325035228,
           1,
           1,
           1.0811120244246124,
           1.0040952325035228,
           1,
           1.0500675199624236,
           1,
           1.0225898309065289,
           1,
           1.0589185063410052,
           1.564085251291686,
           1.0491427900422734,
           1.0084546735556599,
           1.0110967590418036,
           1.325240723344293,
           3.409053546265852,
           1.0355360497886332,
           1.0011889384687647,
           1.0586542977923907,
           1,
           1.0010568341944575,
           1.0498033114138092,
           1,
           1.2101779004227338,
           1,
           1.0203440582433068,
           1.001453147017379,
           1.0010568341944575,
           1,
           1,
           1,
           1.0174377642085486,
           1.0281382104274308,
           1.0291950446218883,
           1.0746389149835602,
           1.3803282057303898,
           2.299245537811179,
           1.0011889384687647,
           1,
           10,
           1,
           1.4274894316580555,
           1,
           1.128801667449507,
           1.0690905354626585,
           1.0019815641146077,
           1.1163838656646312,
           1
          ],
          "sizemode": "area",
          "sizeref": 0.025,
          "symbol": "circle"
         },
         "mode": "markers",
         "name": "Asia",
         "showlegend": true,
         "type": "scattergeo"
        },
        {
         "customdata": [
          [
           32,
           276342,
           3497
          ],
          [
           173,
           43067,
           153
          ],
          [
           2791,
           4295818,
           19938
          ],
          [
           0,
           982867,
           6978
          ],
          [
           6196,
           4158754,
           31768
          ],
          [
           0,
           377962,
           15788
          ],
          [
           80,
           1165807,
           37163
          ],
          [
           267,
           1137864,
           15998
          ],
          [
           1814,
           491777,
           1067
          ],
          [
           81,
           3921096,
           40291
          ],
          [
           545,
           3138678,
           6376
          ],
          [
           823,
           576870,
           2574
          ],
          [
           0,
           34658,
           28
          ],
          [
           13018,
           1105211,
           4627
          ],
          [
           25172,
           29675355,
           148536
          ],
          [
           41087,
           26493235,
           139386
          ],
          [
           141,
           18560,
           102
          ],
          [
           3313,
           3467979,
           29901
          ],
          [
           null,
           null,
           null
          ],
          [
           2063,
           1919840,
           46547
          ],
          [
           633,
           188924,
           153
          ],
          [
           4338,
           1565970,
           7381
          ],
          [
           132,
           33098,
           107
          ],
          [
           22809,
           17490451,
           166922
          ],
          [
           null,
           null,
           null
          ],
          [
           6,
           228393,
           3139
          ],
          [
           145,
           829143,
           5828
          ],
          [
           0,
           17532,
           84
          ],
          [
           115,
           1063065,
           9148
          ],
          [
           270,
           248972,
           1079
          ],
          [
           76,
           95144,
           722
          ],
          [
           174,
           518967,
           11544
          ],
          [
           0,
           12186,
           57
          ],
          [
           65,
           237486,
           2720
          ],
          [
           1458,
           8184647,
           22432
          ],
          [
           0,
           312157,
           9309
          ],
          [
           97,
           1434750,
           3172
          ],
          [
           255,
           6008550,
           116349
          ],
          [
           26392,
           4775529,
           23243
          ],
          [
           311,
           2910392,
           65691
          ],
          [
           3991,
           18080277,
           371781
          ],
          [
           0,
           17124,
           115
          ],
          [
           221,
           2018437,
           16087
          ],
          [
           181,
           2543341,
           20104
          ],
          [
           257,
           1025913,
           6640
          ],
          [
           42989,
           12403245,
           106797
          ],
          [
           1418,
           2509366,
           19014
          ],
          [
           6932,
           3674986,
           13804
          ],
          [
           0,
           5040518,
           112459
          ],
          [
           129,
           22382336,
           178925
          ],
          [
           0,
           29,
           null
          ]
         ],
         "geo": "geo",
         "hovertemplate": "<b>%{hovertext}</b><br><br>continent=Europe<br>new_cases_norm=%{marker.size}<br>iso_code=%{location}<br>new_cases=%{customdata[0]}<br>total_cases=%{customdata[1]}<br>total_deaths=%{customdata[2]}<extra></extra>",
         "hovertext": [
          "Albania",
          "Andorra",
          "Austria",
          "Belarus",
          "Belgium",
          "Bosnia and Herzegovina",
          "Bulgaria",
          "Croatia",
          "Cyprus",
          "Czechia",
          "Denmark",
          "Estonia",
          "Faeroe Islands",
          "Finland",
          "France",
          "Germany",
          "Gibraltar",
          "Greece",
          "Guernsey",
          "Hungary",
          "Iceland",
          "Ireland",
          "Isle of Man",
          "Italy",
          "Jersey",
          "Kosovo",
          "Latvia",
          "Liechtenstein",
          "Lithuania",
          "Luxembourg",
          "Malta",
          "Moldova",
          "Monaco",
          "Montenegro",
          "Netherlands",
          "North Macedonia",
          "Norway",
          "Poland",
          "Portugal",
          "Romania",
          "Russia",
          "San Marino",
          "Serbia",
          "Slovakia",
          "Slovenia",
          "Spain",
          "Sweden",
          "Switzerland",
          "Ukraine",
          "United Kingdom",
          "Vatican"
         ],
         "legendgroup": "Europe",
         "locations": [
          "ALB",
          "AND",
          "AUT",
          "BLR",
          "BEL",
          "BIH",
          "BGR",
          "HRV",
          "CYP",
          "CZE",
          "DNK",
          "EST",
          "FRO",
          "FIN",
          "FRA",
          "DEU",
          "GIB",
          "GRC",
          "GGY",
          "HUN",
          "ISL",
          "IRL",
          "IMN",
          "ITA",
          "JEY",
          "OWID_KOS",
          "LVA",
          "LIE",
          "LTU",
          "LUX",
          "MLT",
          "MDA",
          "MCO",
          "MNE",
          "NLD",
          "MKD",
          "NOR",
          "POL",
          "PRT",
          "ROU",
          "RUS",
          "SMR",
          "SRB",
          "SVK",
          "SVN",
          "ESP",
          "SWE",
          "CHE",
          "UKR",
          "GBR",
          "VAT"
         ],
         "marker": {
          "color": "#EF553B",
          "size": [
           1.00422733677783,
           1.0228540394551433,
           1.3687030295913574,
           1,
           1.8185180836073274,
           1,
           1.010568341944575,
           1.0352718412400188,
           1.2396371535932362,
           1.010700446218882,
           1.0719968294974167,
           1.1087218177548144,
           1,
           2.7197334429309534,
           4.325328792860498,
           6.42776831845937,
           1.0186267026773133,
           1.437661460779709,
           1,
           1.2725311178957257,
           1.083622005636449,
           1.573068341944575,
           1.0174377642085486,
           4.013166392672616,
           1,
           1.000792625645843,
           1.019155119774542,
           1,
           1.0151919915453265,
           1.0356681540629404,
           1.0100399248473462,
           1.0229861437294505,
           1,
           1.008586777829967,
           1.192608031939878,
           1,
           1.0128141146077971,
           1.0336865899483325,
           4.486496007515266,
           1.041084429309535,
           1.5272281587599812,
           1,
           1.0291950446218883,
           1.0239108736496008,
           1.033950798496947,
           6.67903064819164,
           1.1873238609675905,
           1.9157468294974165,
           1,
           1.017041451385627,
           1
          ],
          "sizemode": "area",
          "sizeref": 0.025,
          "symbol": "circle"
         },
         "mode": "markers",
         "name": "Europe",
         "showlegend": true,
         "type": "scattergeo"
        },
        {
         "customdata": [
          [
           0,
           265889,
           6875
          ],
          [
           234,
           99761,
           1900
          ],
          [
           0,
           26952,
           163
          ],
          [
           1000,
           308126,
           2697
          ],
          [
           0,
           20899,
           384
          ],
          [
           0,
           42129,
           38
          ],
          [
           0,
           119947,
           1930
          ],
          [
           57,
           56532,
           402
          ],
          [
           0,
           14649,
           113
          ],
          [
           0,
           7417,
           193
          ],
          [
           0,
           8126,
           160
          ],
          [
           0,
           24128,
           385
          ],
          [
           38,
           82280,
           799
          ],
          [
           815,
           89189,
           1338
          ],
          [
           0,
           15675,
           189
          ],
          [
           0,
           515645,
           24718
          ],
          [
           1,
           15924,
           183
          ],
          [
           0,
           9767,
           103
          ],
          [
           23,
           72685,
           1410
          ],
          [
           736,
           474715,
           7515
          ],
          [
           0,
           47677,
           304
          ],
          [
           0,
           12002,
           365
          ],
          [
           0,
           161481,
           1445
          ],
          [
           103,
           36764,
           442
          ],
          [
           0,
           8283,
           171
          ],
          [
           122,
           325442,
           5651
          ],
          [
           204,
           33562,
           699
          ],
          [
           0,
           7456,
           294
          ],
          [
           0,
           502016,
           6430
          ],
          [
           0,
           64377,
           1395
          ],
          [
           10,
           86011,
           2642
          ],
          [
           1,
           31109,
           735
          ],
          [
           9,
           59183,
           982
          ],
          [
           989,
           226851,
           996
          ],
          [
           438,
           1169920,
           16079
          ],
          [
           98,
           225933,
           2203
          ],
          [
           200,
           166859,
           4038
          ],
          [
           0,
           9031,
           310
          ],
          [
           35,
           256148,
           3143
          ],
          [
           18,
           130159,
           1459
          ],
          [
           0,
           4,
           null
          ],
          [
           0,
           5991,
           73
          ],
          [
           7,
           86133,
           1966
          ],
          [
           0,
           44145,
           167
          ],
          [
           0,
           7682,
           125
          ],
          [
           0,
           26565,
           1361
          ],
          [
           1656,
           3967078,
           101313
          ],
          [
           0,
           17626,
           138
          ],
          [
           0,
           62374,
           4942
          ],
          [
           0,
           35354,
           840
          ],
          [
           0,
           37116,
           273
          ],
          [
           510,
           1042872,
           28641
          ],
          [
           0,
           164366,
           3602
          ],
          [
           292,
           322207,
           3988
          ],
          [
           185,
           253236,
           5509
          ]
         ],
         "geo": "geo",
         "hovertemplate": "<b>%{hovertext}</b><br><br>continent=Africa<br>new_cases_norm=%{marker.size}<br>iso_code=%{location}<br>new_cases=%{customdata[0]}<br>total_cases=%{customdata[1]}<br>total_deaths=%{customdata[2]}<extra></extra>",
         "hovertext": [
          "Algeria",
          "Angola",
          "Benin",
          "Botswana",
          "Burkina Faso",
          "Burundi",
          "Cameroon",
          "Cape Verde",
          "Central African Republic",
          "Chad",
          "Comoros",
          "Congo",
          "Cote d'Ivoire",
          "Democratic Republic of Congo",
          "Djibouti",
          "Egypt",
          "Equatorial Guinea",
          "Eritrea",
          "Eswatini",
          "Ethiopia",
          "Gabon",
          "Gambia",
          "Ghana",
          "Guinea",
          "Guinea-Bissau",
          "Kenya",
          "Lesotho",
          "Liberia",
          "Libya",
          "Madagascar",
          "Malawi",
          "Mali",
          "Mauritania",
          "Mauritius",
          "Morocco",
          "Mozambique",
          "Namibia",
          "Niger",
          "Nigeria",
          "Rwanda",
          "Saint Helena",
          "Sao Tome and Principe",
          "Senegal",
          "Seychelles",
          "Sierra Leone",
          "Somalia",
          "South Africa",
          "South Sudan",
          "Sudan",
          "Tanzania",
          "Togo",
          "Tunisia",
          "Uganda",
          "Zambia",
          "Zimbabwe"
         ],
         "legendgroup": "Africa",
         "locations": [
          "DZA",
          "AGO",
          "BEN",
          "BWA",
          "BFA",
          "BDI",
          "CMR",
          "CPV",
          "CAF",
          "TCD",
          "COM",
          "COG",
          "CIV",
          "COD",
          "DJI",
          "EGY",
          "GNQ",
          "ERI",
          "SWZ",
          "ETH",
          "GAB",
          "GMB",
          "GHA",
          "GIN",
          "GNB",
          "KEN",
          "LSO",
          "LBR",
          "LBY",
          "MDG",
          "MWI",
          "MLI",
          "MRT",
          "MUS",
          "MAR",
          "MOZ",
          "NAM",
          "NER",
          "NGA",
          "RWA",
          "SHN",
          "STP",
          "SEN",
          "SYC",
          "SLE",
          "SOM",
          "ZAF",
          "SSD",
          "SDN",
          "TZA",
          "TGO",
          "TUN",
          "UGA",
          "ZMB",
          "ZWE"
         ],
         "marker": {
          "color": "#00cc96",
          "size": [
           1,
           1.0309124001878816,
           1,
           1.1321042743071865,
           1,
           1,
           1,
           1.0075299436355096,
           1,
           1,
           1,
           1,
           1.005019962423673,
           1.107664983560357,
           1,
           1,
           1.0001321042743072,
           1,
           1.0030383983090654,
           1.0972287458900893,
           1,
           1,
           1,
           1.0136067402536402,
           1,
           1.0161167214654767,
           1.0269492719586661,
           1,
           1,
           1,
           1.0013210427430719,
           1.0001321042743072,
           1.0011889384687647,
           1.1306511272898074,
           1.0578616721465477,
           1.0129462188821043,
           1.0264208548614373,
           1,
           1.0046236496007515,
           1.0023778769375293,
           1,
           1,
           1.0009247299201502,
           1,
           1,
           1,
           1.2187646782527009,
           1,
           1,
           1,
           1,
           1.067373179896665,
           1,
           1.0385744480976984,
           1.0244392907468296
          ],
          "sizemode": "area",
          "sizeref": 0.025,
          "symbol": "circle"
         },
         "mode": "markers",
         "name": "Africa",
         "showlegend": true,
         "type": "scattergeo"
        },
        {
         "customdata": [
          [
           0,
           3294,
           9
          ],
          [
           83,
           8378,
           138
          ],
          [
           623,
           37975,
           216
          ],
          [
           51,
           34982,
           810
          ],
          [
           145,
           81319,
           462
          ],
          [
           122,
           59788,
           678
          ],
          [
           330,
           15085,
           138
          ],
          [
           0,
           10123,
           35
          ],
          [
           0,
           6765,
           62
          ],
          [
           1639,
           3897530,
           41354
          ],
          [
           841,
           25318,
           28
          ],
          [
           13896,
           904934,
           8525
          ],
          [
           24,
           1105443,
           8529
          ],
          [
           174,
           44127,
           277
          ],
          [
           111,
           14295,
           67
          ],
          [
           532,
           586099,
           4377
          ],
          [
           0,
           162755,
           4132
          ],
          [
           0,
           11971,
           21
          ],
          [
           0,
           17866,
           230
          ],
          [
           965,
           864560,
           18208
          ],
          [
           0,
           30892,
           835
          ],
          [
           46,
           425417,
           10900
          ],
          [
           386,
           138110,
           3069
          ],
          [
           6996,
           5789401,
           325000
          ],
          [
           0,
           1003,
           8
          ],
          [
           0,
           18491,
           239
          ],
          [
           3056,
           871852,
           8269
          ],
          [
           null,
           null,
           null
          ],
          [
           16,
           5798,
           43
          ],
          [
           93,
           26092,
           371
          ],
          [
           0,
           2748,
           1
          ],
          [
           0,
           8762,
           108
          ],
          [
           315,
           162756,
           3932
          ],
          [
           0,
           6148,
           36
          ],
          [
           24555,
           84748884,
           1008567
          ],
          [
           null,
           null,
           null
          ]
         ],
         "geo": "geo",
         "hovertemplate": "<b>%{hovertext}</b><br><br>continent=North America<br>new_cases_norm=%{marker.size}<br>iso_code=%{location}<br>new_cases=%{customdata[0]}<br>total_cases=%{customdata[1]}<br>total_deaths=%{customdata[2]}<extra></extra>",
         "hovertext": [
          "Anguilla",
          "Antigua and Barbuda",
          "Aruba",
          "Bahamas",
          "Barbados",
          "Belize",
          "Bermuda",
          "Bonaire Sint Eustatius and Saba",
          "British Virgin Islands",
          "Canada",
          "Cayman Islands",
          "Costa Rica",
          "Cuba",
          "Curacao",
          "Dominica",
          "Dominican Republic",
          "El Salvador",
          "Greenland",
          "Grenada",
          "Guatemala",
          "Haiti",
          "Honduras",
          "Jamaica",
          "Mexico",
          "Montserrat",
          "Nicaragua",
          "Panama",
          "Puerto Rico",
          "Saint Kitts and Nevis",
          "Saint Lucia",
          "Saint Pierre and Miquelon",
          "Saint Vincent and the Grenadines",
          "Trinidad and Tobago",
          "Turks and Caicos Islands",
          "United States",
          "United States Virgin Islands"
         ],
         "legendgroup": "North America",
         "locations": [
          "AIA",
          "ATG",
          "ABW",
          "BHS",
          "BRB",
          "BLZ",
          "BMU",
          "BES",
          "VGB",
          "CAN",
          "CYM",
          "CRI",
          "CUB",
          "CUW",
          "DMA",
          "DOM",
          "SLV",
          "GRL",
          "GRD",
          "GTM",
          "HTI",
          "HND",
          "JAM",
          "MEX",
          "MSR",
          "NIC",
          "PAN",
          "PRI",
          "KNA",
          "LCA",
          "SPM",
          "VCT",
          "TTO",
          "TCA",
          "USA",
          "VIR"
         ],
         "marker": {
          "color": "#ab63fa",
          "size": [
           1,
           1.0109646547674964,
           1.082300962893377,
           1.0067373179896666,
           1.019155119774542,
           1.0161167214654767,
           1.0435944105213715,
           1,
           1,
           1.2165189055894787,
           1.111099694692344,
           2.8357209957726632,
           1.0031705025833724,
           1.0229861437294505,
           1.0146635744480976,
           1.0702794739314232,
           1,
           1,
           1,
           1.1274806247064348,
           1,
           1.0060767966181305,
           1.050992249882574,
           1.9242015030530766,
           1,
           1,
           1.4037106622827618,
           1,
           1.002113668388915,
           1.0122856975105683,
           1,
           1,
           1.0416128464067638,
           1,
           4.243820455612964,
           1
          ],
          "sizemode": "area",
          "sizeref": 0.025,
          "symbol": "circle"
         },
         "mode": "markers",
         "name": "North America",
         "showlegend": true,
         "type": "scattergeo"
        },
        {
         "customdata": [
          [
           51778,
           9230573,
           128889
          ],
          [
           547,
           909919,
           21948
          ],
          [
           36189,
           31137479,
           666971
          ],
          [
           9890,
           3739796,
           57955
          ],
          [
           5650,
           6109105,
           139867
          ],
          [
           914,
           878196,
           35645
          ],
          [
           0,
           1717,
           null
          ],
          [
           95,
           65243,
           1238
          ],
          [
           607,
           651268,
           18911
          ],
          [
           853,
           3584256,
           213248
          ],
          [
           131,
           80547,
           1350
          ],
          [
           9389,
           925777,
           7238
          ],
          [
           64,
           523833,
           5722
          ]
         ],
         "geo": "geo",
         "hovertemplate": "<b>%{hovertext}</b><br><br>continent=South America<br>new_cases_norm=%{marker.size}<br>iso_code=%{location}<br>new_cases=%{customdata[0]}<br>total_cases=%{customdata[1]}<br>total_deaths=%{customdata[2]}<extra></extra>",
         "hovertext": [
          "Argentina",
          "Bolivia",
          "Brazil",
          "Chile",
          "Colombia",
          "Ecuador",
          "Falkland Islands",
          "Guyana",
          "Paraguay",
          "Peru",
          "Suriname",
          "Uruguay",
          "Venezuela"
         ],
         "legendgroup": "South America",
         "locations": [
          "ARG",
          "BOL",
          "BRA",
          "CHL",
          "COL",
          "ECU",
          "FLK",
          "GUY",
          "PRY",
          "PER",
          "SUR",
          "URY",
          "VEN"
         ],
         "marker": {
          "color": "#FFA15A",
          "size": [
           7.840095115077501,
           1.072261038046031,
           5.780721582902771,
           2.3065112728980743,
           1.7463891498356037,
           1.1207433067167685,
           1,
           1.0125499060591827,
           1.0801872945044622,
           1.11268494598403,
           1.0173056599342414,
           2.2403270314701738,
           1.0084546735556599
          ],
          "sizemode": "area",
          "sizeref": 0.025,
          "symbol": "circle"
         },
         "mode": "markers",
         "name": "South America",
         "showlegend": true,
         "type": "scattergeo"
        },
        {
         "customdata": [
          [
           20127,
           7425669,
           8749
          ],
          [
           0,
           5697,
           1
          ],
          [
           0,
           65063,
           864
          ],
          [
           0,
           72962,
           649
          ],
          [
           null,
           null,
           null
          ],
          [
           0,
           3098,
           13
          ],
          [
           0,
           18,
           null
          ],
          [
           0,
           30,
           null
          ],
          [
           136,
           62329,
           313
          ],
          [
           4473,
           1196033,
           1179
          ],
          [
           0,
           5083,
           6
          ],
          [
           0,
           44634,
           651
          ],
          [
           297,
           13796,
           27
          ],
          [
           3063,
           21237,
           149
          ],
          [
           0,
           11769,
           12
          ],
          [
           0,
           9445,
           14
          ],
          [
           0,
           454,
           7
          ]
         ],
         "geo": "geo",
         "hovertemplate": "<b>%{hovertext}</b><br><br>continent=Oceania<br>new_cases_norm=%{marker.size}<br>iso_code=%{location}<br>new_cases=%{customdata[0]}<br>total_cases=%{customdata[1]}<br>total_deaths=%{customdata[2]}<extra></extra>",
         "hovertext": [
          "Australia",
          "Cook Islands",
          "Fiji",
          "French Polynesia",
          "Guam",
          "Kiribati",
          "Marshall Islands",
          "Micronesia (country)",
          "New Caledonia",
          "New Zealand",
          "Palau",
          "Papua New Guinea",
          "Samoa",
          "Solomon Islands",
          "Tonga",
          "Vanuatu",
          "Wallis and Futuna"
         ],
         "legendgroup": "Oceania",
         "locations": [
          "AUS",
          "COK",
          "FJI",
          "PYF",
          "GUM",
          "KIR",
          "MHL",
          "FSM",
          "NCL",
          "NZL",
          "PLW",
          "PNG",
          "WSM",
          "SLB",
          "TON",
          "VUT",
          "WLF"
         ],
         "marker": {
          "color": "#19d3f3",
          "size": [
           3.658862728980742,
           1,
           1,
           1,
           1,
           1,
           1,
           1,
           1.0179661813057774,
           1.590902418976045,
           1,
           1,
           1.0392349694692344,
           1.4046353922029122,
           1,
           1,
           1
          ],
          "sizemode": "area",
          "sizeref": 0.025,
          "symbol": "circle"
         },
         "mode": "markers",
         "name": "Oceania",
         "showlegend": true,
         "type": "scattergeo"
        }
       ],
       "layout": {
        "geo": {
         "center": {},
         "domain": {
          "x": [
           0,
           1
          ],
          "y": [
           0,
           1
          ]
         },
         "projection": {
          "type": "orthographic"
         }
        },
        "legend": {
         "itemsizing": "constant",
         "title": {
          "text": "continent"
         },
         "tracegroupgap": 0
        },
        "margin": {
         "t": 60
        },
        "template": {
         "data": {
          "bar": [
           {
            "error_x": {
             "color": "#2a3f5f"
            },
            "error_y": {
             "color": "#2a3f5f"
            },
            "marker": {
             "line": {
              "color": "#E5ECF6",
              "width": 0.5
             },
             "pattern": {
              "fillmode": "overlay",
              "size": 10,
              "solidity": 0.2
             }
            },
            "type": "bar"
           }
          ],
          "barpolar": [
           {
            "marker": {
             "line": {
              "color": "#E5ECF6",
              "width": 0.5
             },
             "pattern": {
              "fillmode": "overlay",
              "size": 10,
              "solidity": 0.2
             }
            },
            "type": "barpolar"
           }
          ],
          "carpet": [
           {
            "aaxis": {
             "endlinecolor": "#2a3f5f",
             "gridcolor": "white",
             "linecolor": "white",
             "minorgridcolor": "white",
             "startlinecolor": "#2a3f5f"
            },
            "baxis": {
             "endlinecolor": "#2a3f5f",
             "gridcolor": "white",
             "linecolor": "white",
             "minorgridcolor": "white",
             "startlinecolor": "#2a3f5f"
            },
            "type": "carpet"
           }
          ],
          "choropleth": [
           {
            "colorbar": {
             "outlinewidth": 0,
             "ticks": ""
            },
            "type": "choropleth"
           }
          ],
          "contour": [
           {
            "colorbar": {
             "outlinewidth": 0,
             "ticks": ""
            },
            "colorscale": [
             [
              0,
              "#0d0887"
             ],
             [
              0.1111111111111111,
              "#46039f"
             ],
             [
              0.2222222222222222,
              "#7201a8"
             ],
             [
              0.3333333333333333,
              "#9c179e"
             ],
             [
              0.4444444444444444,
              "#bd3786"
             ],
             [
              0.5555555555555556,
              "#d8576b"
             ],
             [
              0.6666666666666666,
              "#ed7953"
             ],
             [
              0.7777777777777778,
              "#fb9f3a"
             ],
             [
              0.8888888888888888,
              "#fdca26"
             ],
             [
              1,
              "#f0f921"
             ]
            ],
            "type": "contour"
           }
          ],
          "contourcarpet": [
           {
            "colorbar": {
             "outlinewidth": 0,
             "ticks": ""
            },
            "type": "contourcarpet"
           }
          ],
          "heatmap": [
           {
            "colorbar": {
             "outlinewidth": 0,
             "ticks": ""
            },
            "colorscale": [
             [
              0,
              "#0d0887"
             ],
             [
              0.1111111111111111,
              "#46039f"
             ],
             [
              0.2222222222222222,
              "#7201a8"
             ],
             [
              0.3333333333333333,
              "#9c179e"
             ],
             [
              0.4444444444444444,
              "#bd3786"
             ],
             [
              0.5555555555555556,
              "#d8576b"
             ],
             [
              0.6666666666666666,
              "#ed7953"
             ],
             [
              0.7777777777777778,
              "#fb9f3a"
             ],
             [
              0.8888888888888888,
              "#fdca26"
             ],
             [
              1,
              "#f0f921"
             ]
            ],
            "type": "heatmap"
           }
          ],
          "heatmapgl": [
           {
            "colorbar": {
             "outlinewidth": 0,
             "ticks": ""
            },
            "colorscale": [
             [
              0,
              "#0d0887"
             ],
             [
              0.1111111111111111,
              "#46039f"
             ],
             [
              0.2222222222222222,
              "#7201a8"
             ],
             [
              0.3333333333333333,
              "#9c179e"
             ],
             [
              0.4444444444444444,
              "#bd3786"
             ],
             [
              0.5555555555555556,
              "#d8576b"
             ],
             [
              0.6666666666666666,
              "#ed7953"
             ],
             [
              0.7777777777777778,
              "#fb9f3a"
             ],
             [
              0.8888888888888888,
              "#fdca26"
             ],
             [
              1,
              "#f0f921"
             ]
            ],
            "type": "heatmapgl"
           }
          ],
          "histogram": [
           {
            "marker": {
             "pattern": {
              "fillmode": "overlay",
              "size": 10,
              "solidity": 0.2
             }
            },
            "type": "histogram"
           }
          ],
          "histogram2d": [
           {
            "colorbar": {
             "outlinewidth": 0,
             "ticks": ""
            },
            "colorscale": [
             [
              0,
              "#0d0887"
             ],
             [
              0.1111111111111111,
              "#46039f"
             ],
             [
              0.2222222222222222,
              "#7201a8"
             ],
             [
              0.3333333333333333,
              "#9c179e"
             ],
             [
              0.4444444444444444,
              "#bd3786"
             ],
             [
              0.5555555555555556,
              "#d8576b"
             ],
             [
              0.6666666666666666,
              "#ed7953"
             ],
             [
              0.7777777777777778,
              "#fb9f3a"
             ],
             [
              0.8888888888888888,
              "#fdca26"
             ],
             [
              1,
              "#f0f921"
             ]
            ],
            "type": "histogram2d"
           }
          ],
          "histogram2dcontour": [
           {
            "colorbar": {
             "outlinewidth": 0,
             "ticks": ""
            },
            "colorscale": [
             [
              0,
              "#0d0887"
             ],
             [
              0.1111111111111111,
              "#46039f"
             ],
             [
              0.2222222222222222,
              "#7201a8"
             ],
             [
              0.3333333333333333,
              "#9c179e"
             ],
             [
              0.4444444444444444,
              "#bd3786"
             ],
             [
              0.5555555555555556,
              "#d8576b"
             ],
             [
              0.6666666666666666,
              "#ed7953"
             ],
             [
              0.7777777777777778,
              "#fb9f3a"
             ],
             [
              0.8888888888888888,
              "#fdca26"
             ],
             [
              1,
              "#f0f921"
             ]
            ],
            "type": "histogram2dcontour"
           }
          ],
          "mesh3d": [
           {
            "colorbar": {
             "outlinewidth": 0,
             "ticks": ""
            },
            "type": "mesh3d"
           }
          ],
          "parcoords": [
           {
            "line": {
             "colorbar": {
              "outlinewidth": 0,
              "ticks": ""
             }
            },
            "type": "parcoords"
           }
          ],
          "pie": [
           {
            "automargin": true,
            "type": "pie"
           }
          ],
          "scatter": [
           {
            "marker": {
             "colorbar": {
              "outlinewidth": 0,
              "ticks": ""
             }
            },
            "type": "scatter"
           }
          ],
          "scatter3d": [
           {
            "line": {
             "colorbar": {
              "outlinewidth": 0,
              "ticks": ""
             }
            },
            "marker": {
             "colorbar": {
              "outlinewidth": 0,
              "ticks": ""
             }
            },
            "type": "scatter3d"
           }
          ],
          "scattercarpet": [
           {
            "marker": {
             "colorbar": {
              "outlinewidth": 0,
              "ticks": ""
             }
            },
            "type": "scattercarpet"
           }
          ],
          "scattergeo": [
           {
            "marker": {
             "colorbar": {
              "outlinewidth": 0,
              "ticks": ""
             }
            },
            "type": "scattergeo"
           }
          ],
          "scattergl": [
           {
            "marker": {
             "colorbar": {
              "outlinewidth": 0,
              "ticks": ""
             }
            },
            "type": "scattergl"
           }
          ],
          "scattermapbox": [
           {
            "marker": {
             "colorbar": {
              "outlinewidth": 0,
              "ticks": ""
             }
            },
            "type": "scattermapbox"
           }
          ],
          "scatterpolar": [
           {
            "marker": {
             "colorbar": {
              "outlinewidth": 0,
              "ticks": ""
             }
            },
            "type": "scatterpolar"
           }
          ],
          "scatterpolargl": [
           {
            "marker": {
             "colorbar": {
              "outlinewidth": 0,
              "ticks": ""
             }
            },
            "type": "scatterpolargl"
           }
          ],
          "scatterternary": [
           {
            "marker": {
             "colorbar": {
              "outlinewidth": 0,
              "ticks": ""
             }
            },
            "type": "scatterternary"
           }
          ],
          "surface": [
           {
            "colorbar": {
             "outlinewidth": 0,
             "ticks": ""
            },
            "colorscale": [
             [
              0,
              "#0d0887"
             ],
             [
              0.1111111111111111,
              "#46039f"
             ],
             [
              0.2222222222222222,
              "#7201a8"
             ],
             [
              0.3333333333333333,
              "#9c179e"
             ],
             [
              0.4444444444444444,
              "#bd3786"
             ],
             [
              0.5555555555555556,
              "#d8576b"
             ],
             [
              0.6666666666666666,
              "#ed7953"
             ],
             [
              0.7777777777777778,
              "#fb9f3a"
             ],
             [
              0.8888888888888888,
              "#fdca26"
             ],
             [
              1,
              "#f0f921"
             ]
            ],
            "type": "surface"
           }
          ],
          "table": [
           {
            "cells": {
             "fill": {
              "color": "#EBF0F8"
             },
             "line": {
              "color": "white"
             }
            },
            "header": {
             "fill": {
              "color": "#C8D4E3"
             },
             "line": {
              "color": "white"
             }
            },
            "type": "table"
           }
          ]
         },
         "layout": {
          "annotationdefaults": {
           "arrowcolor": "#2a3f5f",
           "arrowhead": 0,
           "arrowwidth": 1
          },
          "autotypenumbers": "strict",
          "coloraxis": {
           "colorbar": {
            "outlinewidth": 0,
            "ticks": ""
           }
          },
          "colorscale": {
           "diverging": [
            [
             0,
             "#8e0152"
            ],
            [
             0.1,
             "#c51b7d"
            ],
            [
             0.2,
             "#de77ae"
            ],
            [
             0.3,
             "#f1b6da"
            ],
            [
             0.4,
             "#fde0ef"
            ],
            [
             0.5,
             "#f7f7f7"
            ],
            [
             0.6,
             "#e6f5d0"
            ],
            [
             0.7,
             "#b8e186"
            ],
            [
             0.8,
             "#7fbc41"
            ],
            [
             0.9,
             "#4d9221"
            ],
            [
             1,
             "#276419"
            ]
           ],
           "sequential": [
            [
             0,
             "#0d0887"
            ],
            [
             0.1111111111111111,
             "#46039f"
            ],
            [
             0.2222222222222222,
             "#7201a8"
            ],
            [
             0.3333333333333333,
             "#9c179e"
            ],
            [
             0.4444444444444444,
             "#bd3786"
            ],
            [
             0.5555555555555556,
             "#d8576b"
            ],
            [
             0.6666666666666666,
             "#ed7953"
            ],
            [
             0.7777777777777778,
             "#fb9f3a"
            ],
            [
             0.8888888888888888,
             "#fdca26"
            ],
            [
             1,
             "#f0f921"
            ]
           ],
           "sequentialminus": [
            [
             0,
             "#0d0887"
            ],
            [
             0.1111111111111111,
             "#46039f"
            ],
            [
             0.2222222222222222,
             "#7201a8"
            ],
            [
             0.3333333333333333,
             "#9c179e"
            ],
            [
             0.4444444444444444,
             "#bd3786"
            ],
            [
             0.5555555555555556,
             "#d8576b"
            ],
            [
             0.6666666666666666,
             "#ed7953"
            ],
            [
             0.7777777777777778,
             "#fb9f3a"
            ],
            [
             0.8888888888888888,
             "#fdca26"
            ],
            [
             1,
             "#f0f921"
            ]
           ]
          },
          "colorway": [
           "#636efa",
           "#EF553B",
           "#00cc96",
           "#ab63fa",
           "#FFA15A",
           "#19d3f3",
           "#FF6692",
           "#B6E880",
           "#FF97FF",
           "#FECB52"
          ],
          "font": {
           "color": "#2a3f5f"
          },
          "geo": {
           "bgcolor": "white",
           "lakecolor": "white",
           "landcolor": "#E5ECF6",
           "showlakes": true,
           "showland": true,
           "subunitcolor": "white"
          },
          "hoverlabel": {
           "align": "left"
          },
          "hovermode": "closest",
          "mapbox": {
           "style": "light"
          },
          "paper_bgcolor": "white",
          "plot_bgcolor": "#E5ECF6",
          "polar": {
           "angularaxis": {
            "gridcolor": "white",
            "linecolor": "white",
            "ticks": ""
           },
           "bgcolor": "#E5ECF6",
           "radialaxis": {
            "gridcolor": "white",
            "linecolor": "white",
            "ticks": ""
           }
          },
          "scene": {
           "xaxis": {
            "backgroundcolor": "#E5ECF6",
            "gridcolor": "white",
            "gridwidth": 2,
            "linecolor": "white",
            "showbackground": true,
            "ticks": "",
            "zerolinecolor": "white"
           },
           "yaxis": {
            "backgroundcolor": "#E5ECF6",
            "gridcolor": "white",
            "gridwidth": 2,
            "linecolor": "white",
            "showbackground": true,
            "ticks": "",
            "zerolinecolor": "white"
           },
           "zaxis": {
            "backgroundcolor": "#E5ECF6",
            "gridcolor": "white",
            "gridwidth": 2,
            "linecolor": "white",
            "showbackground": true,
            "ticks": "",
            "zerolinecolor": "white"
           }
          },
          "shapedefaults": {
           "line": {
            "color": "#2a3f5f"
           }
          },
          "ternary": {
           "aaxis": {
            "gridcolor": "white",
            "linecolor": "white",
            "ticks": ""
           },
           "baxis": {
            "gridcolor": "white",
            "linecolor": "white",
            "ticks": ""
           },
           "bgcolor": "#E5ECF6",
           "caxis": {
            "gridcolor": "white",
            "linecolor": "white",
            "ticks": ""
           }
          },
          "title": {
           "x": 0.05
          },
          "xaxis": {
           "automargin": true,
           "gridcolor": "white",
           "linecolor": "white",
           "ticks": "",
           "title": {
            "standoff": 15
           },
           "zerolinecolor": "white",
           "zerolinewidth": 2
          },
          "yaxis": {
           "automargin": true,
           "gridcolor": "white",
           "linecolor": "white",
           "ticks": "",
           "title": {
            "standoff": 15
           },
           "zerolinecolor": "white",
           "zerolinewidth": 2
          }
         }
        }
       }
      },
      "text/html": [
       "<div>                            <div id=\"2f9feb03-568c-4f59-af7d-ce45985d031b\" class=\"plotly-graph-div\" style=\"height:525px; width:100%;\"></div>            <script type=\"text/javascript\">                require([\"plotly\"], function(Plotly) {                    window.PLOTLYENV=window.PLOTLYENV || {};                                    if (document.getElementById(\"2f9feb03-568c-4f59-af7d-ce45985d031b\")) {                    Plotly.newPlot(                        \"2f9feb03-568c-4f59-af7d-ce45985d031b\",                        [{\"customdata\":[[31.0,180615.0,7708.0],[0.0,422963.0,8625.0],[0.0,792785.0,9713.0],[614.0,588070.0,1488.0],[31.0,1953623.0,29131.0],[0.0,59628.0,21.0],[379.0,150058.0,223.0],[0.0,136262.0,3056.0],[171.0,884320.0,5226.0],[0.0,1655221.0,16811.0],[446.0,1214638.0,9382.0],[4270.0,43176817.0,524692.0],[372.0,6056017.0,156604.0],[64.0,7232678.0,141328.0],[84.0,2328582.0,25220.0],[2462.0,4146176.0,10860.0],[18236.0,8918984.0,30733.0],[269.0,1696937.0,14066.0],[9.0,1394944.0,19016.0],[444.0,633225.0,2555.0],[0.0,200993.0,2991.0],[8.0,210069.0,756.0],[377.0,1099745.0,10435.0],[0.0,83.0,null],[1591.0,4513631.0,35686.0],[0.0,179753.0,299.0],[154.0,925227.0,2179.0],[11.0,613381.0,19434.0],[8.0,979190.0,11952.0],[0.0,1.0,6.0],[0.0,389473.0,4260.0],[0.0,1530556.0,30379.0],[132.0,657705.0,5660.0],[213.0,3691327.0,60456.0],[221.0,369526.0,677.0],[565.0,770650.0,9155.0],[2879.0,1316728.0,1392.0],[9835.0,18163686.0,24258.0],[9.0,663862.0,16518.0],[0.0,55894.0,3150.0],[68128.0,2342794.0,2663.0],[0.0,17786.0,125.0],[3236.0,4466793.0,30171.0],[0.0,22921.0,131.0],[975.0,15072747.0,98965.0],[523.0,910338.0,2305.0],[15.0,239092.0,1637.0],[881.0,10724554.0,43080.0],[0.0,11822.0,2149.0]],\"geo\":\"geo\",\"hovertemplate\":\"<b>%{hovertext}</b><br><br>continent=Asia<br>new_cases_norm=%{marker.size}<br>iso_code=%{location}<br>new_cases=%{customdata[0]}<br>total_cases=%{customdata[1]}<br>total_deaths=%{customdata[2]}<extra></extra>\",\"hovertext\":[\"Afghanistan\",\"Armenia\",\"Azerbaijan\",\"Bahrain\",\"Bangladesh\",\"Bhutan\",\"Brunei\",\"Cambodia\",\"China\",\"Georgia\",\"Hong Kong\",\"India\",\"Indonesia\",\"Iran\",\"Iraq\",\"Israel\",\"Japan\",\"Jordan\",\"Kazakhstan\",\"Kuwait\",\"Kyrgyzstan\",\"Laos\",\"Lebanon\",\"Macao\",\"Malaysia\",\"Maldives\",\"Mongolia\",\"Myanmar\",\"Nepal\",\"North Korea\",\"Oman\",\"Pakistan\",\"Palestine\",\"Philippines\",\"Qatar\",\"Saudi Arabia\",\"Singapore\",\"South Korea\",\"Sri Lanka\",\"Syria\",\"Taiwan\",\"Tajikistan\",\"Thailand\",\"Timor\",\"Turkey\",\"United Arab Emirates\",\"Uzbekistan\",\"Vietnam\",\"Yemen\"],\"legendgroup\":\"Asia\",\"locations\":[\"AFG\",\"ARM\",\"AZE\",\"BHR\",\"BGD\",\"BTN\",\"BRN\",\"KHM\",\"CHN\",\"GEO\",\"HKG\",\"IND\",\"IDN\",\"IRN\",\"IRQ\",\"ISR\",\"JPN\",\"JOR\",\"KAZ\",\"KWT\",\"KGZ\",\"LAO\",\"LBN\",\"MAC\",\"MYS\",\"MDV\",\"MNG\",\"MMR\",\"NPL\",\"PRK\",\"OMN\",\"PAK\",\"PSE\",\"PHL\",\"QAT\",\"SAU\",\"SGP\",\"KOR\",\"LKA\",\"SYR\",\"TWN\",\"TJK\",\"THA\",\"TLS\",\"TUR\",\"ARE\",\"UZB\",\"VNM\",\"YEM\"],\"marker\":{\"color\":\"#636efa\",\"size\":[1.0040952325035228,1.0,1.0,1.0811120244246124,1.0040952325035228,1.0,1.0500675199624236,1.0,1.0225898309065289,1.0,1.0589185063410052,1.564085251291686,1.0491427900422734,1.0084546735556599,1.0110967590418036,1.325240723344293,3.409053546265852,1.0355360497886332,1.0011889384687647,1.0586542977923907,1.0,1.0010568341944575,1.0498033114138092,1.0,1.2101779004227338,1.0,1.0203440582433068,1.001453147017379,1.0010568341944575,1.0,1.0,1.0,1.0174377642085486,1.0281382104274308,1.0291950446218883,1.0746389149835602,1.3803282057303898,2.299245537811179,1.0011889384687647,1.0,10.0,1.0,1.4274894316580555,1.0,1.128801667449507,1.0690905354626585,1.0019815641146077,1.1163838656646312,1.0],\"sizemode\":\"area\",\"sizeref\":0.025,\"symbol\":\"circle\"},\"mode\":\"markers\",\"name\":\"Asia\",\"showlegend\":true,\"type\":\"scattergeo\"},{\"customdata\":[[32.0,276342.0,3497.0],[173.0,43067.0,153.0],[2791.0,4295818.0,19938.0],[0.0,982867.0,6978.0],[6196.0,4158754.0,31768.0],[0.0,377962.0,15788.0],[80.0,1165807.0,37163.0],[267.0,1137864.0,15998.0],[1814.0,491777.0,1067.0],[81.0,3921096.0,40291.0],[545.0,3138678.0,6376.0],[823.0,576870.0,2574.0],[0.0,34658.0,28.0],[13018.0,1105211.0,4627.0],[25172.0,29675355.0,148536.0],[41087.0,26493235.0,139386.0],[141.0,18560.0,102.0],[3313.0,3467979.0,29901.0],[null,null,null],[2063.0,1919840.0,46547.0],[633.0,188924.0,153.0],[4338.0,1565970.0,7381.0],[132.0,33098.0,107.0],[22809.0,17490451.0,166922.0],[null,null,null],[6.0,228393.0,3139.0],[145.0,829143.0,5828.0],[0.0,17532.0,84.0],[115.0,1063065.0,9148.0],[270.0,248972.0,1079.0],[76.0,95144.0,722.0],[174.0,518967.0,11544.0],[0.0,12186.0,57.0],[65.0,237486.0,2720.0],[1458.0,8184647.0,22432.0],[0.0,312157.0,9309.0],[97.0,1434750.0,3172.0],[255.0,6008550.0,116349.0],[26392.0,4775529.0,23243.0],[311.0,2910392.0,65691.0],[3991.0,18080277.0,371781.0],[0.0,17124.0,115.0],[221.0,2018437.0,16087.0],[181.0,2543341.0,20104.0],[257.0,1025913.0,6640.0],[42989.0,12403245.0,106797.0],[1418.0,2509366.0,19014.0],[6932.0,3674986.0,13804.0],[0.0,5040518.0,112459.0],[129.0,22382336.0,178925.0],[0.0,29.0,null]],\"geo\":\"geo\",\"hovertemplate\":\"<b>%{hovertext}</b><br><br>continent=Europe<br>new_cases_norm=%{marker.size}<br>iso_code=%{location}<br>new_cases=%{customdata[0]}<br>total_cases=%{customdata[1]}<br>total_deaths=%{customdata[2]}<extra></extra>\",\"hovertext\":[\"Albania\",\"Andorra\",\"Austria\",\"Belarus\",\"Belgium\",\"Bosnia and Herzegovina\",\"Bulgaria\",\"Croatia\",\"Cyprus\",\"Czechia\",\"Denmark\",\"Estonia\",\"Faeroe Islands\",\"Finland\",\"France\",\"Germany\",\"Gibraltar\",\"Greece\",\"Guernsey\",\"Hungary\",\"Iceland\",\"Ireland\",\"Isle of Man\",\"Italy\",\"Jersey\",\"Kosovo\",\"Latvia\",\"Liechtenstein\",\"Lithuania\",\"Luxembourg\",\"Malta\",\"Moldova\",\"Monaco\",\"Montenegro\",\"Netherlands\",\"North Macedonia\",\"Norway\",\"Poland\",\"Portugal\",\"Romania\",\"Russia\",\"San Marino\",\"Serbia\",\"Slovakia\",\"Slovenia\",\"Spain\",\"Sweden\",\"Switzerland\",\"Ukraine\",\"United Kingdom\",\"Vatican\"],\"legendgroup\":\"Europe\",\"locations\":[\"ALB\",\"AND\",\"AUT\",\"BLR\",\"BEL\",\"BIH\",\"BGR\",\"HRV\",\"CYP\",\"CZE\",\"DNK\",\"EST\",\"FRO\",\"FIN\",\"FRA\",\"DEU\",\"GIB\",\"GRC\",\"GGY\",\"HUN\",\"ISL\",\"IRL\",\"IMN\",\"ITA\",\"JEY\",\"OWID_KOS\",\"LVA\",\"LIE\",\"LTU\",\"LUX\",\"MLT\",\"MDA\",\"MCO\",\"MNE\",\"NLD\",\"MKD\",\"NOR\",\"POL\",\"PRT\",\"ROU\",\"RUS\",\"SMR\",\"SRB\",\"SVK\",\"SVN\",\"ESP\",\"SWE\",\"CHE\",\"UKR\",\"GBR\",\"VAT\"],\"marker\":{\"color\":\"#EF553B\",\"size\":[1.00422733677783,1.0228540394551433,1.3687030295913574,1.0,1.8185180836073274,1.0,1.010568341944575,1.0352718412400188,1.2396371535932362,1.010700446218882,1.0719968294974167,1.1087218177548144,1.0,2.7197334429309534,4.325328792860498,6.42776831845937,1.0186267026773133,1.437661460779709,1.0,1.2725311178957257,1.083622005636449,1.573068341944575,1.0174377642085486,4.013166392672616,1.0,1.000792625645843,1.019155119774542,1.0,1.0151919915453265,1.0356681540629404,1.0100399248473462,1.0229861437294505,1.0,1.008586777829967,1.192608031939878,1.0,1.0128141146077971,1.0336865899483325,4.486496007515266,1.041084429309535,1.5272281587599812,1.0,1.0291950446218883,1.0239108736496008,1.033950798496947,6.67903064819164,1.1873238609675905,1.9157468294974165,1.0,1.017041451385627,1.0],\"sizemode\":\"area\",\"sizeref\":0.025,\"symbol\":\"circle\"},\"mode\":\"markers\",\"name\":\"Europe\",\"showlegend\":true,\"type\":\"scattergeo\"},{\"customdata\":[[0.0,265889.0,6875.0],[234.0,99761.0,1900.0],[0.0,26952.0,163.0],[1000.0,308126.0,2697.0],[0.0,20899.0,384.0],[0.0,42129.0,38.0],[0.0,119947.0,1930.0],[57.0,56532.0,402.0],[0.0,14649.0,113.0],[0.0,7417.0,193.0],[0.0,8126.0,160.0],[0.0,24128.0,385.0],[38.0,82280.0,799.0],[815.0,89189.0,1338.0],[0.0,15675.0,189.0],[0.0,515645.0,24718.0],[1.0,15924.0,183.0],[0.0,9767.0,103.0],[23.0,72685.0,1410.0],[736.0,474715.0,7515.0],[0.0,47677.0,304.0],[0.0,12002.0,365.0],[0.0,161481.0,1445.0],[103.0,36764.0,442.0],[0.0,8283.0,171.0],[122.0,325442.0,5651.0],[204.0,33562.0,699.0],[0.0,7456.0,294.0],[0.0,502016.0,6430.0],[0.0,64377.0,1395.0],[10.0,86011.0,2642.0],[1.0,31109.0,735.0],[9.0,59183.0,982.0],[989.0,226851.0,996.0],[438.0,1169920.0,16079.0],[98.0,225933.0,2203.0],[200.0,166859.0,4038.0],[0.0,9031.0,310.0],[35.0,256148.0,3143.0],[18.0,130159.0,1459.0],[0.0,4.0,null],[0.0,5991.0,73.0],[7.0,86133.0,1966.0],[0.0,44145.0,167.0],[0.0,7682.0,125.0],[0.0,26565.0,1361.0],[1656.0,3967078.0,101313.0],[0.0,17626.0,138.0],[0.0,62374.0,4942.0],[0.0,35354.0,840.0],[0.0,37116.0,273.0],[510.0,1042872.0,28641.0],[0.0,164366.0,3602.0],[292.0,322207.0,3988.0],[185.0,253236.0,5509.0]],\"geo\":\"geo\",\"hovertemplate\":\"<b>%{hovertext}</b><br><br>continent=Africa<br>new_cases_norm=%{marker.size}<br>iso_code=%{location}<br>new_cases=%{customdata[0]}<br>total_cases=%{customdata[1]}<br>total_deaths=%{customdata[2]}<extra></extra>\",\"hovertext\":[\"Algeria\",\"Angola\",\"Benin\",\"Botswana\",\"Burkina Faso\",\"Burundi\",\"Cameroon\",\"Cape Verde\",\"Central African Republic\",\"Chad\",\"Comoros\",\"Congo\",\"Cote d'Ivoire\",\"Democratic Republic of Congo\",\"Djibouti\",\"Egypt\",\"Equatorial Guinea\",\"Eritrea\",\"Eswatini\",\"Ethiopia\",\"Gabon\",\"Gambia\",\"Ghana\",\"Guinea\",\"Guinea-Bissau\",\"Kenya\",\"Lesotho\",\"Liberia\",\"Libya\",\"Madagascar\",\"Malawi\",\"Mali\",\"Mauritania\",\"Mauritius\",\"Morocco\",\"Mozambique\",\"Namibia\",\"Niger\",\"Nigeria\",\"Rwanda\",\"Saint Helena\",\"Sao Tome and Principe\",\"Senegal\",\"Seychelles\",\"Sierra Leone\",\"Somalia\",\"South Africa\",\"South Sudan\",\"Sudan\",\"Tanzania\",\"Togo\",\"Tunisia\",\"Uganda\",\"Zambia\",\"Zimbabwe\"],\"legendgroup\":\"Africa\",\"locations\":[\"DZA\",\"AGO\",\"BEN\",\"BWA\",\"BFA\",\"BDI\",\"CMR\",\"CPV\",\"CAF\",\"TCD\",\"COM\",\"COG\",\"CIV\",\"COD\",\"DJI\",\"EGY\",\"GNQ\",\"ERI\",\"SWZ\",\"ETH\",\"GAB\",\"GMB\",\"GHA\",\"GIN\",\"GNB\",\"KEN\",\"LSO\",\"LBR\",\"LBY\",\"MDG\",\"MWI\",\"MLI\",\"MRT\",\"MUS\",\"MAR\",\"MOZ\",\"NAM\",\"NER\",\"NGA\",\"RWA\",\"SHN\",\"STP\",\"SEN\",\"SYC\",\"SLE\",\"SOM\",\"ZAF\",\"SSD\",\"SDN\",\"TZA\",\"TGO\",\"TUN\",\"UGA\",\"ZMB\",\"ZWE\"],\"marker\":{\"color\":\"#00cc96\",\"size\":[1.0,1.0309124001878816,1.0,1.1321042743071865,1.0,1.0,1.0,1.0075299436355096,1.0,1.0,1.0,1.0,1.005019962423673,1.107664983560357,1.0,1.0,1.0001321042743072,1.0,1.0030383983090654,1.0972287458900893,1.0,1.0,1.0,1.0136067402536402,1.0,1.0161167214654767,1.0269492719586661,1.0,1.0,1.0,1.0013210427430719,1.0001321042743072,1.0011889384687647,1.1306511272898074,1.0578616721465477,1.0129462188821043,1.0264208548614373,1.0,1.0046236496007515,1.0023778769375293,1.0,1.0,1.0009247299201502,1.0,1.0,1.0,1.2187646782527009,1.0,1.0,1.0,1.0,1.067373179896665,1.0,1.0385744480976984,1.0244392907468296],\"sizemode\":\"area\",\"sizeref\":0.025,\"symbol\":\"circle\"},\"mode\":\"markers\",\"name\":\"Africa\",\"showlegend\":true,\"type\":\"scattergeo\"},{\"customdata\":[[0.0,3294.0,9.0],[83.0,8378.0,138.0],[623.0,37975.0,216.0],[51.0,34982.0,810.0],[145.0,81319.0,462.0],[122.0,59788.0,678.0],[330.0,15085.0,138.0],[0.0,10123.0,35.0],[0.0,6765.0,62.0],[1639.0,3897530.0,41354.0],[841.0,25318.0,28.0],[13896.0,904934.0,8525.0],[24.0,1105443.0,8529.0],[174.0,44127.0,277.0],[111.0,14295.0,67.0],[532.0,586099.0,4377.0],[0.0,162755.0,4132.0],[0.0,11971.0,21.0],[0.0,17866.0,230.0],[965.0,864560.0,18208.0],[0.0,30892.0,835.0],[46.0,425417.0,10900.0],[386.0,138110.0,3069.0],[6996.0,5789401.0,325000.0],[0.0,1003.0,8.0],[0.0,18491.0,239.0],[3056.0,871852.0,8269.0],[null,null,null],[16.0,5798.0,43.0],[93.0,26092.0,371.0],[0.0,2748.0,1.0],[0.0,8762.0,108.0],[315.0,162756.0,3932.0],[0.0,6148.0,36.0],[24555.0,84748884.0,1008567.0],[null,null,null]],\"geo\":\"geo\",\"hovertemplate\":\"<b>%{hovertext}</b><br><br>continent=North America<br>new_cases_norm=%{marker.size}<br>iso_code=%{location}<br>new_cases=%{customdata[0]}<br>total_cases=%{customdata[1]}<br>total_deaths=%{customdata[2]}<extra></extra>\",\"hovertext\":[\"Anguilla\",\"Antigua and Barbuda\",\"Aruba\",\"Bahamas\",\"Barbados\",\"Belize\",\"Bermuda\",\"Bonaire Sint Eustatius and Saba\",\"British Virgin Islands\",\"Canada\",\"Cayman Islands\",\"Costa Rica\",\"Cuba\",\"Curacao\",\"Dominica\",\"Dominican Republic\",\"El Salvador\",\"Greenland\",\"Grenada\",\"Guatemala\",\"Haiti\",\"Honduras\",\"Jamaica\",\"Mexico\",\"Montserrat\",\"Nicaragua\",\"Panama\",\"Puerto Rico\",\"Saint Kitts and Nevis\",\"Saint Lucia\",\"Saint Pierre and Miquelon\",\"Saint Vincent and the Grenadines\",\"Trinidad and Tobago\",\"Turks and Caicos Islands\",\"United States\",\"United States Virgin Islands\"],\"legendgroup\":\"North America\",\"locations\":[\"AIA\",\"ATG\",\"ABW\",\"BHS\",\"BRB\",\"BLZ\",\"BMU\",\"BES\",\"VGB\",\"CAN\",\"CYM\",\"CRI\",\"CUB\",\"CUW\",\"DMA\",\"DOM\",\"SLV\",\"GRL\",\"GRD\",\"GTM\",\"HTI\",\"HND\",\"JAM\",\"MEX\",\"MSR\",\"NIC\",\"PAN\",\"PRI\",\"KNA\",\"LCA\",\"SPM\",\"VCT\",\"TTO\",\"TCA\",\"USA\",\"VIR\"],\"marker\":{\"color\":\"#ab63fa\",\"size\":[1.0,1.0109646547674964,1.082300962893377,1.0067373179896666,1.019155119774542,1.0161167214654767,1.0435944105213715,1.0,1.0,1.2165189055894787,1.111099694692344,2.8357209957726632,1.0031705025833724,1.0229861437294505,1.0146635744480976,1.0702794739314232,1.0,1.0,1.0,1.1274806247064348,1.0,1.0060767966181305,1.050992249882574,1.9242015030530766,1.0,1.0,1.4037106622827618,1.0,1.002113668388915,1.0122856975105683,1.0,1.0,1.0416128464067638,1.0,4.243820455612964,1.0],\"sizemode\":\"area\",\"sizeref\":0.025,\"symbol\":\"circle\"},\"mode\":\"markers\",\"name\":\"North America\",\"showlegend\":true,\"type\":\"scattergeo\"},{\"customdata\":[[51778.0,9230573.0,128889.0],[547.0,909919.0,21948.0],[36189.0,31137479.0,666971.0],[9890.0,3739796.0,57955.0],[5650.0,6109105.0,139867.0],[914.0,878196.0,35645.0],[0.0,1717.0,null],[95.0,65243.0,1238.0],[607.0,651268.0,18911.0],[853.0,3584256.0,213248.0],[131.0,80547.0,1350.0],[9389.0,925777.0,7238.0],[64.0,523833.0,5722.0]],\"geo\":\"geo\",\"hovertemplate\":\"<b>%{hovertext}</b><br><br>continent=South America<br>new_cases_norm=%{marker.size}<br>iso_code=%{location}<br>new_cases=%{customdata[0]}<br>total_cases=%{customdata[1]}<br>total_deaths=%{customdata[2]}<extra></extra>\",\"hovertext\":[\"Argentina\",\"Bolivia\",\"Brazil\",\"Chile\",\"Colombia\",\"Ecuador\",\"Falkland Islands\",\"Guyana\",\"Paraguay\",\"Peru\",\"Suriname\",\"Uruguay\",\"Venezuela\"],\"legendgroup\":\"South America\",\"locations\":[\"ARG\",\"BOL\",\"BRA\",\"CHL\",\"COL\",\"ECU\",\"FLK\",\"GUY\",\"PRY\",\"PER\",\"SUR\",\"URY\",\"VEN\"],\"marker\":{\"color\":\"#FFA15A\",\"size\":[7.840095115077501,1.072261038046031,5.780721582902771,2.3065112728980743,1.7463891498356037,1.1207433067167685,1.0,1.0125499060591827,1.0801872945044622,1.11268494598403,1.0173056599342414,2.2403270314701738,1.0084546735556599],\"sizemode\":\"area\",\"sizeref\":0.025,\"symbol\":\"circle\"},\"mode\":\"markers\",\"name\":\"South America\",\"showlegend\":true,\"type\":\"scattergeo\"},{\"customdata\":[[20127.0,7425669.0,8749.0],[0.0,5697.0,1.0],[0.0,65063.0,864.0],[0.0,72962.0,649.0],[null,null,null],[0.0,3098.0,13.0],[0.0,18.0,null],[0.0,30.0,null],[136.0,62329.0,313.0],[4473.0,1196033.0,1179.0],[0.0,5083.0,6.0],[0.0,44634.0,651.0],[297.0,13796.0,27.0],[3063.0,21237.0,149.0],[0.0,11769.0,12.0],[0.0,9445.0,14.0],[0.0,454.0,7.0]],\"geo\":\"geo\",\"hovertemplate\":\"<b>%{hovertext}</b><br><br>continent=Oceania<br>new_cases_norm=%{marker.size}<br>iso_code=%{location}<br>new_cases=%{customdata[0]}<br>total_cases=%{customdata[1]}<br>total_deaths=%{customdata[2]}<extra></extra>\",\"hovertext\":[\"Australia\",\"Cook Islands\",\"Fiji\",\"French Polynesia\",\"Guam\",\"Kiribati\",\"Marshall Islands\",\"Micronesia (country)\",\"New Caledonia\",\"New Zealand\",\"Palau\",\"Papua New Guinea\",\"Samoa\",\"Solomon Islands\",\"Tonga\",\"Vanuatu\",\"Wallis and Futuna\"],\"legendgroup\":\"Oceania\",\"locations\":[\"AUS\",\"COK\",\"FJI\",\"PYF\",\"GUM\",\"KIR\",\"MHL\",\"FSM\",\"NCL\",\"NZL\",\"PLW\",\"PNG\",\"WSM\",\"SLB\",\"TON\",\"VUT\",\"WLF\"],\"marker\":{\"color\":\"#19d3f3\",\"size\":[3.658862728980742,1.0,1.0,1.0,1.0,1.0,1.0,1.0,1.0179661813057774,1.590902418976045,1.0,1.0,1.0392349694692344,1.4046353922029122,1.0,1.0,1.0],\"sizemode\":\"area\",\"sizeref\":0.025,\"symbol\":\"circle\"},\"mode\":\"markers\",\"name\":\"Oceania\",\"showlegend\":true,\"type\":\"scattergeo\"}],                        {\"template\":{\"data\":{\"bar\":[{\"error_x\":{\"color\":\"#2a3f5f\"},\"error_y\":{\"color\":\"#2a3f5f\"},\"marker\":{\"line\":{\"color\":\"#E5ECF6\",\"width\":0.5},\"pattern\":{\"fillmode\":\"overlay\",\"size\":10,\"solidity\":0.2}},\"type\":\"bar\"}],\"barpolar\":[{\"marker\":{\"line\":{\"color\":\"#E5ECF6\",\"width\":0.5},\"pattern\":{\"fillmode\":\"overlay\",\"size\":10,\"solidity\":0.2}},\"type\":\"barpolar\"}],\"carpet\":[{\"aaxis\":{\"endlinecolor\":\"#2a3f5f\",\"gridcolor\":\"white\",\"linecolor\":\"white\",\"minorgridcolor\":\"white\",\"startlinecolor\":\"#2a3f5f\"},\"baxis\":{\"endlinecolor\":\"#2a3f5f\",\"gridcolor\":\"white\",\"linecolor\":\"white\",\"minorgridcolor\":\"white\",\"startlinecolor\":\"#2a3f5f\"},\"type\":\"carpet\"}],\"choropleth\":[{\"colorbar\":{\"outlinewidth\":0,\"ticks\":\"\"},\"type\":\"choropleth\"}],\"contour\":[{\"colorbar\":{\"outlinewidth\":0,\"ticks\":\"\"},\"colorscale\":[[0.0,\"#0d0887\"],[0.1111111111111111,\"#46039f\"],[0.2222222222222222,\"#7201a8\"],[0.3333333333333333,\"#9c179e\"],[0.4444444444444444,\"#bd3786\"],[0.5555555555555556,\"#d8576b\"],[0.6666666666666666,\"#ed7953\"],[0.7777777777777778,\"#fb9f3a\"],[0.8888888888888888,\"#fdca26\"],[1.0,\"#f0f921\"]],\"type\":\"contour\"}],\"contourcarpet\":[{\"colorbar\":{\"outlinewidth\":0,\"ticks\":\"\"},\"type\":\"contourcarpet\"}],\"heatmap\":[{\"colorbar\":{\"outlinewidth\":0,\"ticks\":\"\"},\"colorscale\":[[0.0,\"#0d0887\"],[0.1111111111111111,\"#46039f\"],[0.2222222222222222,\"#7201a8\"],[0.3333333333333333,\"#9c179e\"],[0.4444444444444444,\"#bd3786\"],[0.5555555555555556,\"#d8576b\"],[0.6666666666666666,\"#ed7953\"],[0.7777777777777778,\"#fb9f3a\"],[0.8888888888888888,\"#fdca26\"],[1.0,\"#f0f921\"]],\"type\":\"heatmap\"}],\"heatmapgl\":[{\"colorbar\":{\"outlinewidth\":0,\"ticks\":\"\"},\"colorscale\":[[0.0,\"#0d0887\"],[0.1111111111111111,\"#46039f\"],[0.2222222222222222,\"#7201a8\"],[0.3333333333333333,\"#9c179e\"],[0.4444444444444444,\"#bd3786\"],[0.5555555555555556,\"#d8576b\"],[0.6666666666666666,\"#ed7953\"],[0.7777777777777778,\"#fb9f3a\"],[0.8888888888888888,\"#fdca26\"],[1.0,\"#f0f921\"]],\"type\":\"heatmapgl\"}],\"histogram\":[{\"marker\":{\"pattern\":{\"fillmode\":\"overlay\",\"size\":10,\"solidity\":0.2}},\"type\":\"histogram\"}],\"histogram2d\":[{\"colorbar\":{\"outlinewidth\":0,\"ticks\":\"\"},\"colorscale\":[[0.0,\"#0d0887\"],[0.1111111111111111,\"#46039f\"],[0.2222222222222222,\"#7201a8\"],[0.3333333333333333,\"#9c179e\"],[0.4444444444444444,\"#bd3786\"],[0.5555555555555556,\"#d8576b\"],[0.6666666666666666,\"#ed7953\"],[0.7777777777777778,\"#fb9f3a\"],[0.8888888888888888,\"#fdca26\"],[1.0,\"#f0f921\"]],\"type\":\"histogram2d\"}],\"histogram2dcontour\":[{\"colorbar\":{\"outlinewidth\":0,\"ticks\":\"\"},\"colorscale\":[[0.0,\"#0d0887\"],[0.1111111111111111,\"#46039f\"],[0.2222222222222222,\"#7201a8\"],[0.3333333333333333,\"#9c179e\"],[0.4444444444444444,\"#bd3786\"],[0.5555555555555556,\"#d8576b\"],[0.6666666666666666,\"#ed7953\"],[0.7777777777777778,\"#fb9f3a\"],[0.8888888888888888,\"#fdca26\"],[1.0,\"#f0f921\"]],\"type\":\"histogram2dcontour\"}],\"mesh3d\":[{\"colorbar\":{\"outlinewidth\":0,\"ticks\":\"\"},\"type\":\"mesh3d\"}],\"parcoords\":[{\"line\":{\"colorbar\":{\"outlinewidth\":0,\"ticks\":\"\"}},\"type\":\"parcoords\"}],\"pie\":[{\"automargin\":true,\"type\":\"pie\"}],\"scatter\":[{\"marker\":{\"colorbar\":{\"outlinewidth\":0,\"ticks\":\"\"}},\"type\":\"scatter\"}],\"scatter3d\":[{\"line\":{\"colorbar\":{\"outlinewidth\":0,\"ticks\":\"\"}},\"marker\":{\"colorbar\":{\"outlinewidth\":0,\"ticks\":\"\"}},\"type\":\"scatter3d\"}],\"scattercarpet\":[{\"marker\":{\"colorbar\":{\"outlinewidth\":0,\"ticks\":\"\"}},\"type\":\"scattercarpet\"}],\"scattergeo\":[{\"marker\":{\"colorbar\":{\"outlinewidth\":0,\"ticks\":\"\"}},\"type\":\"scattergeo\"}],\"scattergl\":[{\"marker\":{\"colorbar\":{\"outlinewidth\":0,\"ticks\":\"\"}},\"type\":\"scattergl\"}],\"scattermapbox\":[{\"marker\":{\"colorbar\":{\"outlinewidth\":0,\"ticks\":\"\"}},\"type\":\"scattermapbox\"}],\"scatterpolar\":[{\"marker\":{\"colorbar\":{\"outlinewidth\":0,\"ticks\":\"\"}},\"type\":\"scatterpolar\"}],\"scatterpolargl\":[{\"marker\":{\"colorbar\":{\"outlinewidth\":0,\"ticks\":\"\"}},\"type\":\"scatterpolargl\"}],\"scatterternary\":[{\"marker\":{\"colorbar\":{\"outlinewidth\":0,\"ticks\":\"\"}},\"type\":\"scatterternary\"}],\"surface\":[{\"colorbar\":{\"outlinewidth\":0,\"ticks\":\"\"},\"colorscale\":[[0.0,\"#0d0887\"],[0.1111111111111111,\"#46039f\"],[0.2222222222222222,\"#7201a8\"],[0.3333333333333333,\"#9c179e\"],[0.4444444444444444,\"#bd3786\"],[0.5555555555555556,\"#d8576b\"],[0.6666666666666666,\"#ed7953\"],[0.7777777777777778,\"#fb9f3a\"],[0.8888888888888888,\"#fdca26\"],[1.0,\"#f0f921\"]],\"type\":\"surface\"}],\"table\":[{\"cells\":{\"fill\":{\"color\":\"#EBF0F8\"},\"line\":{\"color\":\"white\"}},\"header\":{\"fill\":{\"color\":\"#C8D4E3\"},\"line\":{\"color\":\"white\"}},\"type\":\"table\"}]},\"layout\":{\"annotationdefaults\":{\"arrowcolor\":\"#2a3f5f\",\"arrowhead\":0,\"arrowwidth\":1},\"autotypenumbers\":\"strict\",\"coloraxis\":{\"colorbar\":{\"outlinewidth\":0,\"ticks\":\"\"}},\"colorscale\":{\"diverging\":[[0,\"#8e0152\"],[0.1,\"#c51b7d\"],[0.2,\"#de77ae\"],[0.3,\"#f1b6da\"],[0.4,\"#fde0ef\"],[0.5,\"#f7f7f7\"],[0.6,\"#e6f5d0\"],[0.7,\"#b8e186\"],[0.8,\"#7fbc41\"],[0.9,\"#4d9221\"],[1,\"#276419\"]],\"sequential\":[[0.0,\"#0d0887\"],[0.1111111111111111,\"#46039f\"],[0.2222222222222222,\"#7201a8\"],[0.3333333333333333,\"#9c179e\"],[0.4444444444444444,\"#bd3786\"],[0.5555555555555556,\"#d8576b\"],[0.6666666666666666,\"#ed7953\"],[0.7777777777777778,\"#fb9f3a\"],[0.8888888888888888,\"#fdca26\"],[1.0,\"#f0f921\"]],\"sequentialminus\":[[0.0,\"#0d0887\"],[0.1111111111111111,\"#46039f\"],[0.2222222222222222,\"#7201a8\"],[0.3333333333333333,\"#9c179e\"],[0.4444444444444444,\"#bd3786\"],[0.5555555555555556,\"#d8576b\"],[0.6666666666666666,\"#ed7953\"],[0.7777777777777778,\"#fb9f3a\"],[0.8888888888888888,\"#fdca26\"],[1.0,\"#f0f921\"]]},\"colorway\":[\"#636efa\",\"#EF553B\",\"#00cc96\",\"#ab63fa\",\"#FFA15A\",\"#19d3f3\",\"#FF6692\",\"#B6E880\",\"#FF97FF\",\"#FECB52\"],\"font\":{\"color\":\"#2a3f5f\"},\"geo\":{\"bgcolor\":\"white\",\"lakecolor\":\"white\",\"landcolor\":\"#E5ECF6\",\"showlakes\":true,\"showland\":true,\"subunitcolor\":\"white\"},\"hoverlabel\":{\"align\":\"left\"},\"hovermode\":\"closest\",\"mapbox\":{\"style\":\"light\"},\"paper_bgcolor\":\"white\",\"plot_bgcolor\":\"#E5ECF6\",\"polar\":{\"angularaxis\":{\"gridcolor\":\"white\",\"linecolor\":\"white\",\"ticks\":\"\"},\"bgcolor\":\"#E5ECF6\",\"radialaxis\":{\"gridcolor\":\"white\",\"linecolor\":\"white\",\"ticks\":\"\"}},\"scene\":{\"xaxis\":{\"backgroundcolor\":\"#E5ECF6\",\"gridcolor\":\"white\",\"gridwidth\":2,\"linecolor\":\"white\",\"showbackground\":true,\"ticks\":\"\",\"zerolinecolor\":\"white\"},\"yaxis\":{\"backgroundcolor\":\"#E5ECF6\",\"gridcolor\":\"white\",\"gridwidth\":2,\"linecolor\":\"white\",\"showbackground\":true,\"ticks\":\"\",\"zerolinecolor\":\"white\"},\"zaxis\":{\"backgroundcolor\":\"#E5ECF6\",\"gridcolor\":\"white\",\"gridwidth\":2,\"linecolor\":\"white\",\"showbackground\":true,\"ticks\":\"\",\"zerolinecolor\":\"white\"}},\"shapedefaults\":{\"line\":{\"color\":\"#2a3f5f\"}},\"ternary\":{\"aaxis\":{\"gridcolor\":\"white\",\"linecolor\":\"white\",\"ticks\":\"\"},\"baxis\":{\"gridcolor\":\"white\",\"linecolor\":\"white\",\"ticks\":\"\"},\"bgcolor\":\"#E5ECF6\",\"caxis\":{\"gridcolor\":\"white\",\"linecolor\":\"white\",\"ticks\":\"\"}},\"title\":{\"x\":0.05},\"xaxis\":{\"automargin\":true,\"gridcolor\":\"white\",\"linecolor\":\"white\",\"ticks\":\"\",\"title\":{\"standoff\":15},\"zerolinecolor\":\"white\",\"zerolinewidth\":2},\"yaxis\":{\"automargin\":true,\"gridcolor\":\"white\",\"linecolor\":\"white\",\"ticks\":\"\",\"title\":{\"standoff\":15},\"zerolinecolor\":\"white\",\"zerolinewidth\":2}}},\"geo\":{\"domain\":{\"x\":[0.0,1.0],\"y\":[0.0,1.0]},\"projection\":{\"type\":\"orthographic\"},\"center\":{}},\"legend\":{\"title\":{\"text\":\"continent\"},\"tracegroupgap\":0,\"itemsizing\":\"constant\"},\"margin\":{\"t\":60}},                        {\"responsive\": true}                    ).then(function(){\n",
       "                            \n",
       "var gd = document.getElementById('2f9feb03-568c-4f59-af7d-ce45985d031b');\n",
       "var x = new MutationObserver(function (mutations, observer) {{\n",
       "        var display = window.getComputedStyle(gd).display;\n",
       "        if (!display || display === 'none') {{\n",
       "            console.log([gd, 'removed!']);\n",
       "            Plotly.purge(gd);\n",
       "            observer.disconnect();\n",
       "        }}\n",
       "}});\n",
       "\n",
       "// Listen for the removal of the full notebook cells\n",
       "var notebookContainer = gd.closest('#notebook-container');\n",
       "if (notebookContainer) {{\n",
       "    x.observe(notebookContainer, {childList: true});\n",
       "}}\n",
       "\n",
       "// Listen for the clearing of the current output cell\n",
       "var outputEl = gd.closest('.output');\n",
       "if (outputEl) {{\n",
       "    x.observe(outputEl, {childList: true});\n",
       "}}\n",
       "\n",
       "                        })                };                });            </script>        </div>"
      ]
     },
     "metadata": {},
     "output_type": "display_data"
    }
   ],
   "source": [
    "map_figure = px.scatter_geo(globe_data,\n",
    "                            locations = 'iso_code',\n",
    "                            projection = 'orthographic',\n",
    "                            color = 'continent',\n",
    "                            size = 'new_cases_norm',\n",
    "                            hover_name = 'location',\n",
    "                            hover_data = ['new_cases','total_cases', 'total_deaths'])\n",
    "map_figure.show()"
   ]
  },
  {
   "cell_type": "markdown",
   "id": "4d2279e5",
   "metadata": {},
   "source": [
    "# Preparing the SIR Model"
   ]
  },
  {
   "cell_type": "code",
   "execution_count": 99,
   "id": "bad6bd85",
   "metadata": {},
   "outputs": [],
   "source": [
    "def SIR(y, t, beta, gamma):\n",
    "    S, I, R = y\n",
    "    dS_dt = -beta * S * I\n",
    "    dI_dT = beta * S * I - gamma * I\n",
    "    dR_dt = gamma * I\n",
    "    return([dS_dt, dI_dT, dR_dt])\n",
    "\n",
    "def inputs(S0, I0, R0, beta, gamma):\n",
    "    return S0, I0, R0, beta, gamma\n",
    "\n",
    "def solver(SIR, inputs):\n",
    "    S0 = inputs[0]\n",
    "    I0 = inputs[1]\n",
    "    R0 = inputs[2]\n",
    "    beta = inputs[3]\n",
    "    gamma = inputs[4]\n",
    "    t = np.linspace(0, 365, 365)\n",
    "    data = scipy.integrate.odeint(SIR, [S0, I0, R0], t,\n",
    "                                  args = (beta, gamma))\n",
    "    data = np.array(data)\n",
    "    #data = ColumnDataSource(data = dict(S0 = S0, I0 = I0, R0 = R0, t = t\n",
    "    #                                   , beta = beta, gamma = gamma))\n",
    "    return data\n",
    "\n",
    "\n",
    "def sourceInput(S, I, R, b, g):\n",
    "    data = solver(SIR, inputs(S, I, R, b, g))\n",
    "    data = pd.DataFrame(data)\n",
    "    data = data.rename(columns = {0: \"Susceptible\", 1: \"Infected\", \n",
    "                                  2: \"Recovered\"})\n",
    "    data[\"Days\"] = (data.index -1)+1\n",
    "    return data"
   ]
  },
  {
   "cell_type": "markdown",
   "id": "6f9564e0",
   "metadata": {},
   "source": [
    "# Preparing owid data"
   ]
  },
  {
   "cell_type": "markdown",
   "id": "d94a13bb",
   "metadata": {},
   "source": [
    "### Normalizing the population"
   ]
  },
  {
   "cell_type": "code",
   "execution_count": 100,
   "id": "e91c06d8",
   "metadata": {},
   "outputs": [],
   "source": [
    "start = 5\n",
    "end = 10\n",
    "width = end - start\n",
    "df['pop_norm'] = (df['population'] - df['population'].min())/(df['population'].max() - df['population'].min()) * width + start\n",
    "\n",
    "var_selection = ['total_cases', 'total_deaths', 'total_cases_per_million', 'total_deaths_per_million', 'people_fully_vaccinated', 'total_vaccinations_per_hundred', 'reproduction_rate', 'population_density', 'population', 'median_age', 'life_expectancy','gdp_per_capita', 'human_development_index', 'total_cases_in_100', 'total_deaths_in_100']"
   ]
  },
  {
   "cell_type": "markdown",
   "id": "25745ecf",
   "metadata": {},
   "source": [
    "## Plotting SIR in Bokeh"
   ]
  },
  {
   "cell_type": "code",
   "execution_count": 103,
   "id": "433bfda1",
   "metadata": {},
   "outputs": [],
   "source": [
    "#SIR visualization\n",
    "sirDf = (sourceInput(0.999,0.001, 0, 0.15, 0.05))\n",
    "sirDf['Susceptible'] = sirDf['Susceptible'] * 1000\n",
    "sirDf['Susceptible'] = round(sirDf['Susceptible'])\n",
    "sirDf['Infected'] = sirDf['Infected'] * 1000\n",
    "sirDf['Infected'] = round(sirDf['Infected'])\n",
    "sirDf['Recovered'] = sirDf['Recovered'] * 1000\n",
    "sirDf['Recovered'] = round(sirDf['Recovered'])\n",
    "sirDf = ColumnDataSource(sirDf)\n",
    "#view = CDSView(source=source)\n",
    "\n",
    "#Figure\n",
    "p2 = figure(title = 'SIR-Model', x_axis_label='Days', y_axis_label = 'Population')\n",
    "\n",
    "#Hovertool for more information on the SIR model\n",
    "hover_tool = HoverTool(tooltips =  [(\"Susceptible\", \"@Susceptible\")\n",
    "                                   , (\"Infected\", \"@Infected\")\n",
    "                                   , (\"Recovered\", \"@Recovered\")\n",
    "                                   , (\"Days\", \"@Days\")\n",
    "                                   ,])\n",
    "p2.add_tools(hover_tool)\n",
    "\n",
    "#Plot SIR\n",
    "p2.line(x = 'Days', y = 'Susceptible', source = sirDf, color = 'Blue')\n",
    "p2.line(x = 'Days', y = 'Infected', source = sirDf, color = 'Red')\n",
    "p2.line(x = 'Days', y = 'Recovered', source = sirDf, color = 'Green')\n",
    "\n",
    "#Add Dataframe to the dashboard\n",
    "columns = [\n",
    "        TableColumn(field=\"Susceptible\", title=\"Susceptible\"),\n",
    "        TableColumn(field=\"Infected\", title=\"Infected\"),\n",
    "        TableColumn(field = \"Recovered\", title = \"Recovered\"),\n",
    "        TableColumn(field = \"Days\", title= \"Days\")\n",
    "    ]\n",
    "\n",
    "data_table = DataTable(source = sirDf, columns = columns, width = 500,\n",
    "                      height = 280,)\n",
    "\n",
    "div = Div(text=r\"\"\"\n",
    "<b> A plot describing a SIR Model to plot an epidemic.</b> </p>\n",
    "The amount of susceptible people <b>(S)</b> at time t\n",
    "$$ \\frac{dS}{dt} = \\mu * (N - S) - \\beta *I * \\frac{S}{N} $$\n",
    "<p\\>\n",
    "The amount of infected people <b>(I)</b> at time t \n",
    "<p\\>\n",
    "$$ \\frac{dI}{dt} = \\beta * I * \\frac{S}{N} - (\\mu + \\gamma) * I $$\n",
    "<p\\>\n",
    "The amount of Recovered people <b>(R)</b> at time t\n",
    "$$\\frac{dR}{dt} = \\gamma * I - \\mu * R $\\ $$\n",
    "<p\\>\n",
    "<p>\n",
    "<p> $$N$$ describing the total amount of indiviuums.</p>\n",
    "<b> $$\\beta$$ </b> describing the transmissionrate of the virus.</b> </p>\n",
    "<b> $$\\gamma$$ </b> describing the recovery time of an individuum.</b>\n",
    "\"\"\")\n",
    "\n",
    "#Create the layout\n",
    "sir_Layout = layout([[p2], [data_table, div]])\n",
    "tab2 = Panel(child = sir_Layout, title = \"SIR model\")"
   ]
  },
  {
   "cell_type": "markdown",
   "id": "8753bf22",
   "metadata": {},
   "source": [
    "# Plotting owid data"
   ]
  },
  {
   "cell_type": "code",
   "execution_count": 104,
   "id": "135a9673",
   "metadata": {},
   "outputs": [],
   "source": [
    "#Create active axis for visualizing owid data\n",
    "df['active_axisX'] = df['total_cases_in_100']\n",
    "df['active_axisY'] = df['total_deaths_in_100']\n",
    "owidSource = ColumnDataSource(df)\n",
    "view = CDSView(source=owidSource)\n",
    "\n",
    "#Dashboard figure\n",
    "p = figure(title = 'Covid-19 Dashboard', x_axis_label =\"x\", y_axis_label = \"y\")\n",
    "\n",
    "#Axesselect for x-Axis\n",
    "Axesselect = Select(title=\"Choose x-Axis variable:\", value=\"total_cases_in_100\", options= var_selection)\n",
    "Axesselect.js_on_change('value', CustomJS(args=dict(source=owidSource, Axesselect=Axesselect, xaxis=p.xaxis), code=\"\"\"\n",
    "    source.data['active_axisX'] = source.data[Axesselect.value]\n",
    "    source.change.emit()\n",
    "    xaxis.axis_label = Axesselect.value\n",
    "    \"\"\"))\n",
    "\n",
    "YAxesselect = Select(title=\"Choose y-Axis Variable:\", value=\"total_deaths_in_100\", options= var_selection)\n",
    "YAxesselect.js_on_change('value', CustomJS(args=dict(source=owidSource, YAxesselect=YAxesselect, yaxis=p.yaxis), code=\"\"\"\n",
    "    source.data['active_axisY'] = source.data[YAxesselect.value]\n",
    "    source.change.emit()\n",
    "    Yaxis.axis_label = Axesselect.value\n",
    "    \"\"\"))\n",
    "\n",
    "#Add hovertools for more information\n",
    "hover_tool = HoverTool(tooltips =  [(\"Location\", \"@location\")\n",
    "                                   , (\"Continent\", \"@continent\")\n",
    "                                   , (\"Reproduction Rate\", \"@reproduction_rate\")\n",
    "                                   , (\"Total vaccinations per 100\", \"@total_vaccinations_per_hundred\")\n",
    "                                   , (\"Population Density\", \"@population_density\")\n",
    "                                   ,])\n",
    "p.add_tools(hover_tool)\n",
    "\n",
    "#Add color\n",
    "index_cmap = factor_cmap('continent', palette=['red', 'blue', 'green', 'yellow', 'black', 'orange'], \n",
    "                         factors=sorted(df['continent'].unique()))\n",
    "#Add data to the figure\n",
    "p.circle(x = 'active_axisX', y = 'active_axisY', source=owidSource, view=view, size = 'pop_norm'\n",
    "        , fill_color = index_cmap, legend_label = 'continent')\n",
    "\n",
    "#Add the dropdown menu\n",
    "controls = [YAxesselect, Axesselect]\n",
    "inputs = column(*controls, width = 0)\n",
    "\n",
    "owid_Layout = layout([[inputs, p]], sizing_mode= \"scale_height\")#scale_width\n",
    "tab1 = Panel(child= owid_Layout, title=\"Covid-19 Dashboard\")\n",
    "\n",
    "#Create the full layout\n",
    "tabs = Tabs(tabs=[tab1, tab2])\n",
    "show(tabs)"
   ]
  },
  {
   "cell_type": "markdown",
   "id": "8eb926b3",
   "metadata": {},
   "source": [
    "### Code junk"
   ]
  },
  {
   "cell_type": "code",
   "execution_count": null,
   "id": "a1e147f5",
   "metadata": {},
   "outputs": [],
   "source": [
    "#Select\n",
    "#Axesselect = Select(title=\"Country size:\", value= 'population', options= populationData['location'].tolist()) \n",
    "#Axesselect.js_on_change('value', CustomJS(args=dict(source=pop_source, Axesselect=Axesselect, yaxis=p2.yaxis), code=\"\"\"\n",
    "#    sir_source.data['Susceptible'] = sir_source.data['Susceptible'] * 10\n",
    "#    sir_source.data['I_Pop'] = sir_source.data['Infected'] * source.data[Axesselect.value]\n",
    "#    sir_source.data['R_Pop'] = sir_source.data['Recovered'] * source.data[axecelect.value]\n",
    "#    sir_source.change.emit()\n",
    "#    \"\"\"))\n",
    "\n",
    "#Sliders\n",
    "#betaSlider = Slider(title =\"Beta\", value = 0.5, start = 0, end = 1, step = 0.01)\n",
    "#gammaSlider = Slider(title = \"Gamma\", value = 0.2, start = 0, end = 1, step = 0.01)\n",
    "\n",
    "#popCallback = CustomJS(args = dict(source = source, pop = populationSlider),\n",
    "#                  code = \"\"\"\n",
    "#                  const pop = pop.value;\n",
    "#                  const s = source.data['Susceptible'];\n",
    "#                  const inf = source.data['Infected'];\n",
    "#                  const r = source.data['Recovered'];\n",
    "#                  for(let i = 0; i < s.length; i++){\n",
    "#                      s[i] = 10;\n",
    "#                      inf[i] = inf[i] * pop\n",
    "#                      r[i] = r[i] * pop\n",
    "#                  }\n",
    "#                  source.change.emit();\n",
    "#\"\"\")\n",
    "\n",
    "#callback = CustomJS(args=dict(source=source),\n",
    "#                    code=\"\"\"\n",
    "#    const data = source.data;\n",
    "#    var s = data['Susceptible'];\n",
    "#    var inf = data['Infected'];\n",
    "#    var r = data['Recovered']\n",
    "#    var p = cb_obj.value;\n",
    "#    for (let i = 0; i < s.length; i++) {\n",
    "#        s[i] = s[i] * p;\n",
    "#        inf[i] = inf[i] * p;\n",
    "#        r[i] = r[i] * p;\n",
    "#    }\n",
    "#    source.change.emit();\n",
    "#\"\"\")\n",
    "#populationSlider = Slider(title = \"Population size\", value = 1000, start = 1, end = 100000, step = 100)\n",
    "#populationSlider.js_on_change('value', callback)\n",
    "\n",
    "#callback = CustomJS(args = dict(source = source, beta = betaSlider, gamma = gammaSlider),\n",
    "#                   code = \"\"\"\n",
    "#                   const data = source.data;\n",
    "#                   const beta = beta.value;\n",
    "#                   const gamma = gamma.value;\n",
    "#                   const S = source.data['Susceptible'];\n",
    "#                   const I = source.data['Infected'];\n",
    "#                   const R = source.data['Recovered'];\n",
    "#                   const source.data  = solver(SIR, inputs(S, I, R, beta, gamma))\n",
    "#                   source.change.emit();\n",
    "#\"\"\") \n",
    "#betaSlider.js_on_change('value', callback)\n",
    "#gammaSlider.js_on_change('value', callback)\n",
    "\n",
    "\n",
    "#Add the dropdown\n",
    "#controls = [populationSlider]#Axesselect, betaSlider, gammaSlider]\n",
    "#inputs = column(*controls, width=0)"
   ]
  },
  {
   "cell_type": "code",
   "execution_count": null,
   "id": "bbed6e83",
   "metadata": {},
   "outputs": [],
   "source": []
  }
 ],
 "metadata": {
  "kernelspec": {
   "display_name": "Python 3 (ipykernel)",
   "language": "python",
   "name": "python3"
  },
  "language_info": {
   "codemirror_mode": {
    "name": "ipython",
    "version": 3
   },
   "file_extension": ".py",
   "mimetype": "text/x-python",
   "name": "python",
   "nbconvert_exporter": "python",
   "pygments_lexer": "ipython3",
   "version": "3.9.7"
  }
 },
 "nbformat": 4,
 "nbformat_minor": 5
}
